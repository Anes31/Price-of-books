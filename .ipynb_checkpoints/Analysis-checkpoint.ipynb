{
 "cells": [
  {
   "cell_type": "code",
   "execution_count": 57,
   "id": "118cb2bd",
   "metadata": {},
   "outputs": [],
   "source": [
    "import pandas as pd\n",
    "import numpy as np\n",
    "import matplotlib.pyplot as plt\n",
    "import seaborn as sns\n",
    "import re\n",
    "import scipy.stats\n",
    "from sklearn.preprocessing import OneHotEncoder\n",
    "from sklearn.preprocessing import StandardScaler, MinMaxScaler\n",
    "from sklearn.model_selection import train_test_split, KFold, cross_val_score\n",
    "from sklearn.metrics import mean_squared_error, mean_absolute_error, r2_score\n",
    "from sklearn.ensemble import RandomForestRegressor, GradientBoostingRegressor, VotingRegressor\n",
    "from sklearn.linear_model import Ridge, BayesianRidge, OrthogonalMatchingPursuit\n",
    "\n",
    "from pycaret.regression import setup, compare_models\n",
    "import optuna"
   ]
  },
  {
   "cell_type": "code",
   "execution_count": 2,
   "id": "d829c5cb",
   "metadata": {},
   "outputs": [],
   "source": [
    "train = pd.read_excel('Data_Train.xlsx')\n",
    "target = train.Price\n",
    "train = train.drop(['Price'], axis=1)\n",
    "test = pd.read_excel('Data_Test.xlsx')"
   ]
  },
  {
   "cell_type": "code",
   "execution_count": 3,
   "id": "e530c83f",
   "metadata": {},
   "outputs": [
    {
     "data": {
      "text/html": [
       "<div>\n",
       "<style scoped>\n",
       "    .dataframe tbody tr th:only-of-type {\n",
       "        vertical-align: middle;\n",
       "    }\n",
       "\n",
       "    .dataframe tbody tr th {\n",
       "        vertical-align: top;\n",
       "    }\n",
       "\n",
       "    .dataframe thead th {\n",
       "        text-align: right;\n",
       "    }\n",
       "</style>\n",
       "<table border=\"1\" class=\"dataframe\">\n",
       "  <thead>\n",
       "    <tr style=\"text-align: right;\">\n",
       "      <th></th>\n",
       "      <th>Title</th>\n",
       "      <th>Author</th>\n",
       "      <th>Edition</th>\n",
       "      <th>Reviews</th>\n",
       "      <th>Ratings</th>\n",
       "      <th>Synopsis</th>\n",
       "      <th>Genre</th>\n",
       "      <th>BookCategory</th>\n",
       "    </tr>\n",
       "  </thead>\n",
       "  <tbody>\n",
       "    <tr>\n",
       "      <th>0</th>\n",
       "      <td>The Prisoner's Gold (The Hunters 3)</td>\n",
       "      <td>Chris Kuzneski</td>\n",
       "      <td>Paperback,– 10 Mar 2016</td>\n",
       "      <td>4.0 out of 5 stars</td>\n",
       "      <td>8 customer reviews</td>\n",
       "      <td>THE HUNTERS return in their third brilliant no...</td>\n",
       "      <td>Action &amp; Adventure (Books)</td>\n",
       "      <td>Action &amp; Adventure</td>\n",
       "    </tr>\n",
       "    <tr>\n",
       "      <th>1</th>\n",
       "      <td>Guru Dutt: A Tragedy in Three Acts</td>\n",
       "      <td>Arun Khopkar</td>\n",
       "      <td>Paperback,– 7 Nov 2012</td>\n",
       "      <td>3.9 out of 5 stars</td>\n",
       "      <td>14 customer reviews</td>\n",
       "      <td>A layered portrait of a troubled genius for wh...</td>\n",
       "      <td>Cinema &amp; Broadcast (Books)</td>\n",
       "      <td>Biographies, Diaries &amp; True Accounts</td>\n",
       "    </tr>\n",
       "    <tr>\n",
       "      <th>2</th>\n",
       "      <td>Leviathan (Penguin Classics)</td>\n",
       "      <td>Thomas Hobbes</td>\n",
       "      <td>Paperback,– 25 Feb 1982</td>\n",
       "      <td>4.8 out of 5 stars</td>\n",
       "      <td>6 customer reviews</td>\n",
       "      <td>\"During the time men live without a common Pow...</td>\n",
       "      <td>International Relations</td>\n",
       "      <td>Humour</td>\n",
       "    </tr>\n",
       "    <tr>\n",
       "      <th>3</th>\n",
       "      <td>A Pocket Full of Rye (Miss Marple)</td>\n",
       "      <td>Agatha Christie</td>\n",
       "      <td>Paperback,– 5 Oct 2017</td>\n",
       "      <td>4.1 out of 5 stars</td>\n",
       "      <td>13 customer reviews</td>\n",
       "      <td>A handful of grain is found in the pocket of a...</td>\n",
       "      <td>Contemporary Fiction (Books)</td>\n",
       "      <td>Crime, Thriller &amp; Mystery</td>\n",
       "    </tr>\n",
       "    <tr>\n",
       "      <th>4</th>\n",
       "      <td>LIFE 70 Years of Extraordinary Photography</td>\n",
       "      <td>Editors of Life</td>\n",
       "      <td>Hardcover,– 10 Oct 2006</td>\n",
       "      <td>5.0 out of 5 stars</td>\n",
       "      <td>1 customer review</td>\n",
       "      <td>For seven decades, \"Life\" has been thrilling t...</td>\n",
       "      <td>Photography Textbooks</td>\n",
       "      <td>Arts, Film &amp; Photography</td>\n",
       "    </tr>\n",
       "  </tbody>\n",
       "</table>\n",
       "</div>"
      ],
      "text/plain": [
       "                                        Title           Author  \\\n",
       "0         The Prisoner's Gold (The Hunters 3)   Chris Kuzneski   \n",
       "1          Guru Dutt: A Tragedy in Three Acts     Arun Khopkar   \n",
       "2                Leviathan (Penguin Classics)    Thomas Hobbes   \n",
       "3          A Pocket Full of Rye (Miss Marple)  Agatha Christie   \n",
       "4  LIFE 70 Years of Extraordinary Photography  Editors of Life   \n",
       "\n",
       "                   Edition             Reviews              Ratings  \\\n",
       "0  Paperback,– 10 Mar 2016  4.0 out of 5 stars   8 customer reviews   \n",
       "1   Paperback,– 7 Nov 2012  3.9 out of 5 stars  14 customer reviews   \n",
       "2  Paperback,– 25 Feb 1982  4.8 out of 5 stars   6 customer reviews   \n",
       "3   Paperback,– 5 Oct 2017  4.1 out of 5 stars  13 customer reviews   \n",
       "4  Hardcover,– 10 Oct 2006  5.0 out of 5 stars    1 customer review   \n",
       "\n",
       "                                            Synopsis  \\\n",
       "0  THE HUNTERS return in their third brilliant no...   \n",
       "1  A layered portrait of a troubled genius for wh...   \n",
       "2  \"During the time men live without a common Pow...   \n",
       "3  A handful of grain is found in the pocket of a...   \n",
       "4  For seven decades, \"Life\" has been thrilling t...   \n",
       "\n",
       "                          Genre                          BookCategory  \n",
       "0    Action & Adventure (Books)                    Action & Adventure  \n",
       "1    Cinema & Broadcast (Books)  Biographies, Diaries & True Accounts  \n",
       "2       International Relations                                Humour  \n",
       "3  Contemporary Fiction (Books)             Crime, Thriller & Mystery  \n",
       "4         Photography Textbooks              Arts, Film & Photography  "
      ]
     },
     "execution_count": 3,
     "metadata": {},
     "output_type": "execute_result"
    }
   ],
   "source": [
    "train.head()"
   ]
  },
  {
   "cell_type": "code",
   "execution_count": 4,
   "id": "f993dd36",
   "metadata": {},
   "outputs": [
    {
     "data": {
      "text/plain": [
       "(6237, 8)"
      ]
     },
     "execution_count": 4,
     "metadata": {},
     "output_type": "execute_result"
    }
   ],
   "source": [
    "train.shape"
   ]
  },
  {
   "cell_type": "code",
   "execution_count": 5,
   "id": "c3d2565f",
   "metadata": {},
   "outputs": [
    {
     "data": {
      "text/plain": [
       "(1560, 8)"
      ]
     },
     "execution_count": 5,
     "metadata": {},
     "output_type": "execute_result"
    }
   ],
   "source": [
    "test.shape"
   ]
  },
  {
   "cell_type": "code",
   "execution_count": 6,
   "id": "a7aec216",
   "metadata": {},
   "outputs": [],
   "source": [
    "train0 = pd.concat([train, test]).reset_index(drop=True)"
   ]
  },
  {
   "cell_type": "code",
   "execution_count": 7,
   "id": "0425b661",
   "metadata": {},
   "outputs": [
    {
     "data": {
      "text/plain": [
       "(7797, 8)"
      ]
     },
     "execution_count": 7,
     "metadata": {},
     "output_type": "execute_result"
    }
   ],
   "source": [
    "train0.shape"
   ]
  },
  {
   "cell_type": "markdown",
   "id": "4fd820b0",
   "metadata": {},
   "source": [
    "# Feature Engineering"
   ]
  },
  {
   "cell_type": "code",
   "execution_count": 8,
   "id": "f231c0c3",
   "metadata": {},
   "outputs": [],
   "source": [
    "def getMiddle(x):\n",
    "    if ',' in x:\n",
    "        return x.split(',')[0]\n",
    "    else:\n",
    "        return None\n",
    "\n",
    "def getYear(x):\n",
    "    try:\n",
    "        return re.findall(r\"[0-9]{4}\", x)[0] \n",
    "    except:\n",
    "        return None"
   ]
  },
  {
   "cell_type": "code",
   "execution_count": 9,
   "id": "f0586929",
   "metadata": {},
   "outputs": [],
   "source": [
    "train1 = train0.copy()"
   ]
  },
  {
   "cell_type": "code",
   "execution_count": 10,
   "id": "efc57196",
   "metadata": {},
   "outputs": [],
   "source": [
    "# Edition\n",
    "train1['Edition_name'] = train1.Edition.apply(lambda x: x.split(',')[0])\n",
    "train1['Edition_type'] = train1.Edition.apply(lambda x: getMiddle(x.split('–')[1]))\n",
    "train1['Edition_year'] = train1.Edition.apply(lambda val: getYear(val))"
   ]
  },
  {
   "cell_type": "markdown",
   "id": "acb7710d",
   "metadata": {},
   "source": [
    "# Data Cleaning"
   ]
  },
  {
   "cell_type": "code",
   "execution_count": 11,
   "id": "41d49645",
   "metadata": {},
   "outputs": [],
   "source": [
    "train2 = train1.copy()"
   ]
  },
  {
   "cell_type": "code",
   "execution_count": 12,
   "id": "af856732",
   "metadata": {},
   "outputs": [],
   "source": [
    "train2.Edition_year = train2.Edition_year.fillna(train2.Edition_year.median())\n",
    "train2.Edition_year = train2.Edition_year.astype(float)\n",
    "train2.Edition_type = train2.Edition_type.fillna('Other')"
   ]
  },
  {
   "cell_type": "markdown",
   "id": "11208c01",
   "metadata": {},
   "source": [
    "# Feature Transformation"
   ]
  },
  {
   "cell_type": "code",
   "execution_count": 13,
   "id": "e99e5fff",
   "metadata": {},
   "outputs": [],
   "source": [
    "train3 = train2.copy()"
   ]
  },
  {
   "cell_type": "code",
   "execution_count": 14,
   "id": "a98cde5c",
   "metadata": {
    "scrolled": true
   },
   "outputs": [],
   "source": [
    "# Reviews\n",
    "train3.Reviews = train3.Reviews.apply(lambda x: x[:3])\n",
    "train3.Reviews = train3.Reviews.astype(float)\n",
    "\n",
    "# Ratings\n",
    "train3.Ratings = train3.Ratings.apply(lambda x: x.split()[0].replace(',', ''))\n",
    "train3.Ratings = train3.Ratings.astype(float)\n",
    "\n",
    "# Book Category\n",
    "encoder1 = OneHotEncoder(drop='first')\n",
    "category_transformer1 = encoder1.fit_transform(train3[['BookCategory']]).toarray()\n",
    "category_df1 = pd.DataFrame(category_transformer1, columns=encoder1.get_feature_names(['BookCategory']))\n",
    "train3 = pd.concat([train3, category_df1], axis=1)\n",
    "train3 = train3.drop('BookCategory', axis=1)\n",
    "\n",
    "# Edition Name\n",
    "encoder2 = OneHotEncoder(drop='first')\n",
    "category_transformer2 = encoder2.fit_transform(train3[['Edition_name']]).toarray()\n",
    "category_df2 = pd.DataFrame(category_transformer2, columns=encoder2.get_feature_names(['Edition_name']))\n",
    "train3 = pd.concat([train3, category_df2], axis=1)\n",
    "train3 = train3.drop('Edition_name', axis=1)\n",
    "\n",
    "# Edition Type\n",
    "encoder3 = OneHotEncoder(drop='first')\n",
    "category_transformer3 = encoder3.fit_transform(train3[['Edition_type']]).toarray()\n",
    "category_df3 = pd.DataFrame(category_transformer3, columns=encoder3.get_feature_names(['Edition_type']))\n",
    "train3 = pd.concat([train3, category_df3], axis=1)\n",
    "train3 = train3.drop('Edition_type', axis=1)\n",
    "\n",
    "# Genre Type\n",
    "encoder4 = OneHotEncoder(drop='first')\n",
    "category_transformer4 = encoder4.fit_transform(train3[['Genre']]).toarray()\n",
    "category_df4 = pd.DataFrame(category_transformer4, columns=encoder4.get_feature_names(['Genre']))\n",
    "train3 = pd.concat([train3, category_df4], axis=1)\n",
    "train3 = train3.drop('Genre', axis=1)\n",
    "\n",
    "# Authors\n",
    "freq_threshold = 1\n",
    "author_count = train3['Author'].value_counts()\n",
    "common_authors = author_count[author_count>freq_threshold].index\n",
    "train3['Author'] = train3.Author.apply(lambda x: x if x in common_authors else 'other')\n",
    "encoder5 = OneHotEncoder(drop='first')\n",
    "category_transformer5 = encoder5.fit_transform(train3[['Author']]).toarray()\n",
    "category_df5 = pd.DataFrame(category_transformer5, columns=encoder5.get_feature_names(['Author']))\n",
    "train3 = pd.concat([train3, category_df5], axis=1)\n",
    "train3 = train3.drop('Author', axis=1)"
   ]
  },
  {
   "cell_type": "code",
   "execution_count": 15,
   "id": "e1b121e2",
   "metadata": {},
   "outputs": [],
   "source": [
    "train4 = train3.copy()"
   ]
  },
  {
   "cell_type": "code",
   "execution_count": 16,
   "id": "0454c46e",
   "metadata": {},
   "outputs": [],
   "source": [
    "train4 = train4.drop(['Title', 'Edition', 'Synopsis'], axis=1)"
   ]
  },
  {
   "cell_type": "code",
   "execution_count": 17,
   "id": "4114ae15",
   "metadata": {},
   "outputs": [
    {
     "data": {
      "text/plain": [
       "(7797, 1560)"
      ]
     },
     "execution_count": 17,
     "metadata": {},
     "output_type": "execute_result"
    }
   ],
   "source": [
    "train4.shape"
   ]
  },
  {
   "cell_type": "code",
   "execution_count": 18,
   "id": "76339cf3",
   "metadata": {},
   "outputs": [],
   "source": [
    "train5 = train4.copy()"
   ]
  },
  {
   "cell_type": "code",
   "execution_count": 19,
   "id": "d935ca3c",
   "metadata": {},
   "outputs": [],
   "source": [
    "numerical_featuers = ['Reviews', 'Ratings', 'Edition_year']"
   ]
  },
  {
   "cell_type": "code",
   "execution_count": 20,
   "id": "2f4adc81",
   "metadata": {},
   "outputs": [
    {
     "data": {
      "text/html": [
       "<div>\n",
       "<style scoped>\n",
       "    .dataframe tbody tr th:only-of-type {\n",
       "        vertical-align: middle;\n",
       "    }\n",
       "\n",
       "    .dataframe tbody tr th {\n",
       "        vertical-align: top;\n",
       "    }\n",
       "\n",
       "    .dataframe thead th {\n",
       "        text-align: right;\n",
       "    }\n",
       "</style>\n",
       "<table border=\"1\" class=\"dataframe\">\n",
       "  <thead>\n",
       "    <tr style=\"text-align: right;\">\n",
       "      <th></th>\n",
       "      <th>Feature</th>\n",
       "      <th>Skew</th>\n",
       "      <th>Absolute Skew</th>\n",
       "      <th>Skewed</th>\n",
       "    </tr>\n",
       "  </thead>\n",
       "  <tbody>\n",
       "    <tr>\n",
       "      <th>0</th>\n",
       "      <td>Reviews</td>\n",
       "      <td>-1.658615</td>\n",
       "      <td>1.658615</td>\n",
       "      <td>True</td>\n",
       "    </tr>\n",
       "    <tr>\n",
       "      <th>1</th>\n",
       "      <td>Ratings</td>\n",
       "      <td>18.001522</td>\n",
       "      <td>18.001522</td>\n",
       "      <td>True</td>\n",
       "    </tr>\n",
       "    <tr>\n",
       "      <th>2</th>\n",
       "      <td>Edition_year</td>\n",
       "      <td>-2.850876</td>\n",
       "      <td>2.850876</td>\n",
       "      <td>True</td>\n",
       "    </tr>\n",
       "  </tbody>\n",
       "</table>\n",
       "</div>"
      ],
      "text/plain": [
       "        Feature       Skew  Absolute Skew  Skewed\n",
       "0       Reviews  -1.658615       1.658615    True\n",
       "1       Ratings  18.001522      18.001522    True\n",
       "2  Edition_year  -2.850876       2.850876    True"
      ]
     },
     "execution_count": 20,
     "metadata": {},
     "output_type": "execute_result"
    }
   ],
   "source": [
    "skew_df = pd.DataFrame(numerical_featuers, columns=['Feature'])\n",
    "skew_df['Skew'] = skew_df['Feature'].apply(lambda feature: scipy.stats.skew(train5[feature]))\n",
    "skew_df['Absolute Skew'] = skew_df['Skew'].apply(abs)\n",
    "skew_df['Skewed'] = skew_df['Absolute Skew'].apply(lambda x: True if x >= 0.5 else False)\n",
    "skew_df"
   ]
  },
  {
   "cell_type": "code",
   "execution_count": 21,
   "id": "2c9108ec",
   "metadata": {},
   "outputs": [],
   "source": [
    "for column in skew_df.query(\"Skewed == True\")['Feature'].values:\n",
    "    train5[column] = np.log1p(train5[column])"
   ]
  },
  {
   "cell_type": "markdown",
   "id": "b0ebac24",
   "metadata": {},
   "source": [
    "# Feature scaling"
   ]
  },
  {
   "cell_type": "code",
   "execution_count": 22,
   "id": "639edfe3",
   "metadata": {},
   "outputs": [],
   "source": [
    "train6 = train5.copy()"
   ]
  },
  {
   "cell_type": "code",
   "execution_count": 23,
   "id": "f73336c4",
   "metadata": {},
   "outputs": [],
   "source": [
    "# Scale the numerical features\n",
    "scaler = MinMaxScaler()\n",
    "\n",
    "scaler.fit(train6)\n",
    "train6 = pd.DataFrame(scaler.transform(train6), index=train6.index, columns=train6.columns)\n",
    "\n",
    "# scaler = StandardScaler()\n",
    "\n",
    "# scaler.fit(train6[numerical_featuers])\n",
    "# train6[numerical_featuers] = pd.DataFrame(scaler.transform(train6[numerical_featuers]))"
   ]
  },
  {
   "cell_type": "markdown",
   "id": "30d132af",
   "metadata": {},
   "source": [
    "# Target transformation"
   ]
  },
  {
   "cell_type": "code",
   "execution_count": 24,
   "id": "5eecde24",
   "metadata": {},
   "outputs": [
    {
     "data": {
      "image/png": "[encoded data removed]",
      "text/plain": [
       "<Figure size 800x550 with 1 Axes>"
      ]
     },
     "metadata": {},
     "output_type": "display_data"
    }
   ],
   "source": [
    "sns.histplot(target)\n",
    "plt.show()"
   ]
  },
  {
   "cell_type": "code",
   "execution_count": 25,
   "id": "acff7fdb",
   "metadata": {},
   "outputs": [
    {
     "data": {
      "image/png": "[encoded data removed]",
      "text/plain": [
       "<Figure size 800x550 with 1 Axes>"
      ]
     },
     "metadata": {},
     "output_type": "display_data"
    }
   ],
   "source": [
    "sns.histplot(np.log(target))\n",
    "plt.show()"
   ]
  },
  {
   "cell_type": "code",
   "execution_count": 26,
   "id": "fb872b7b",
   "metadata": {},
   "outputs": [],
   "source": [
    "log_target = np.log(target)"
   ]
  },
  {
   "cell_type": "markdown",
   "id": "2c54517b",
   "metadata": {},
   "source": [
    "# Split Train and Test data, transform"
   ]
  },
  {
   "cell_type": "code",
   "execution_count": 27,
   "id": "f93ce388",
   "metadata": {},
   "outputs": [
    {
     "data": {
      "text/plain": [
       "(6237, 1560)"
      ]
     },
     "execution_count": 27,
     "metadata": {},
     "output_type": "execute_result"
    }
   ],
   "source": [
    "train_final = train6.loc[:train.index.max(), :].copy()\n",
    "train_final.shape"
   ]
  },
  {
   "cell_type": "code",
   "execution_count": 69,
   "id": "4f32f5fd",
   "metadata": {},
   "outputs": [
    {
     "data": {
      "text/plain": [
       "(1560, 1560)"
      ]
     },
     "execution_count": 69,
     "metadata": {},
     "output_type": "execute_result"
    }
   ],
   "source": [
    "test_final = train6.iloc[train.index.max()+1:, :].reset_index(drop=True).copy()\n",
    "test_final.shape"
   ]
  },
  {
   "cell_type": "markdown",
   "id": "eedf27b3",
   "metadata": {},
   "source": [
    "# Correlation Matrix"
   ]
  },
  {
   "cell_type": "code",
   "execution_count": 28,
   "id": "26555a69",
   "metadata": {},
   "outputs": [
    {
     "data": {
      "text/plain": [
       "Ratings                                             0.29\n",
       "BookCategory_Computing, Internet & Digital Media    0.21\n",
       "Edition_name_Hardcover                              0.25\n",
       "Edition_name_Paperback                              0.22\n",
       "Price                                               1.00\n",
       "Name: Price, dtype: float64"
      ]
     },
     "execution_count": 28,
     "metadata": {},
     "output_type": "execute_result"
    }
   ],
   "source": [
    "correlation = pd.concat([train_final, log_target], axis=1).corr().round(2)\n",
    "corr_target = abs(correlation['Price'])\n",
    "corr_target[corr_target>.2]"
   ]
  },
  {
   "cell_type": "markdown",
   "id": "bfc01c7d",
   "metadata": {},
   "source": [
    "# Base Model"
   ]
  },
  {
   "cell_type": "code",
   "execution_count": 29,
   "id": "a83d1350",
   "metadata": {},
   "outputs": [
    {
     "name": "stdout",
     "output_type": "stream",
     "text": [
      "RMSE: 0.65\n"
     ]
    }
   ],
   "source": [
    "rf = RandomForestRegressor(n_estimators=100, random_state=0)\n",
    "\n",
    "results = []\n",
    "\n",
    "kf = KFold(n_splits=5)\n",
    "\n",
    "r = np.sqrt(-cross_val_score(rf, train_final, log_target, scoring='neg_mean_absolute_error'))\n",
    "results.append(r)\n",
    "print(f'RMSE: {np.mean(results).round(2)}')"
   ]
  },
  {
   "cell_type": "code",
   "execution_count": 30,
   "id": "5c61de28",
   "metadata": {},
   "outputs": [
    {
     "name": "stdout",
     "output_type": "stream",
     "text": [
      "R2: 0.43\n",
      "MAE: 0.43\n",
      "MSE: 0.35\n",
      "RMSE: 0.59\n"
     ]
    }
   ],
   "source": [
    "X_train, X_test, y_train, y_test = train_test_split(train_final, log_target)\n",
    "model = rf.fit(X_train, y_train)\n",
    "y_pred = rf.predict(X_test)\n",
    "print(f'R2: {r2_score(y_test, y_pred).round(2)}')\n",
    "print(f'MAE: {mean_absolute_error(y_test, y_pred).round(2)}')\n",
    "print(f'MSE: {mean_squared_error(y_test, y_pred).round(2)}')\n",
    "print(f'RMSE: {np.sqrt(mean_squared_error(y_test, y_pred)).round(2)}')"
   ]
  },
  {
   "cell_type": "code",
   "execution_count": 31,
   "id": "d4650e85",
   "metadata": {
    "scrolled": true
   },
   "outputs": [
    {
     "data": {
      "text/html": [
       "<style type=\"text/css\">\n",
       "#T_3b0da_row42_col1 {\n",
       "  background-color: lightgreen;\n",
       "}\n",
       "</style>\n",
       "<table id=\"T_3b0da_\">\n",
       "  <thead>\n",
       "    <tr>\n",
       "      <th class=\"blank level0\" >&nbsp;</th>\n",
       "      <th class=\"col_heading level0 col0\" >Description</th>\n",
       "      <th class=\"col_heading level0 col1\" >Value</th>\n",
       "    </tr>\n",
       "  </thead>\n",
       "  <tbody>\n",
       "    <tr>\n",
       "      <th id=\"T_3b0da_level0_row0\" class=\"row_heading level0 row0\" >0</th>\n",
       "      <td id=\"T_3b0da_row0_col0\" class=\"data row0 col0\" >session_id</td>\n",
       "      <td id=\"T_3b0da_row0_col1\" class=\"data row0 col1\" >5742</td>\n",
       "    </tr>\n",
       "    <tr>\n",
       "      <th id=\"T_3b0da_level0_row1\" class=\"row_heading level0 row1\" >1</th>\n",
       "      <td id=\"T_3b0da_row1_col0\" class=\"data row1 col0\" >Target</td>\n",
       "      <td id=\"T_3b0da_row1_col1\" class=\"data row1 col1\" >Price</td>\n",
       "    </tr>\n",
       "    <tr>\n",
       "      <th id=\"T_3b0da_level0_row2\" class=\"row_heading level0 row2\" >2</th>\n",
       "      <td id=\"T_3b0da_row2_col0\" class=\"data row2 col0\" >Original Data</td>\n",
       "      <td id=\"T_3b0da_row2_col1\" class=\"data row2 col1\" >(6237, 1561)</td>\n",
       "    </tr>\n",
       "    <tr>\n",
       "      <th id=\"T_3b0da_level0_row3\" class=\"row_heading level0 row3\" >3</th>\n",
       "      <td id=\"T_3b0da_row3_col0\" class=\"data row3 col0\" >Missing Values</td>\n",
       "      <td id=\"T_3b0da_row3_col1\" class=\"data row3 col1\" >False</td>\n",
       "    </tr>\n",
       "    <tr>\n",
       "      <th id=\"T_3b0da_level0_row4\" class=\"row_heading level0 row4\" >4</th>\n",
       "      <td id=\"T_3b0da_row4_col0\" class=\"data row4 col0\" >Numeric Features</td>\n",
       "      <td id=\"T_3b0da_row4_col1\" class=\"data row4 col1\" >1560</td>\n",
       "    </tr>\n",
       "    <tr>\n",
       "      <th id=\"T_3b0da_level0_row5\" class=\"row_heading level0 row5\" >5</th>\n",
       "      <td id=\"T_3b0da_row5_col0\" class=\"data row5 col0\" >Categorical Features</td>\n",
       "      <td id=\"T_3b0da_row5_col1\" class=\"data row5 col1\" >0</td>\n",
       "    </tr>\n",
       "    <tr>\n",
       "      <th id=\"T_3b0da_level0_row6\" class=\"row_heading level0 row6\" >6</th>\n",
       "      <td id=\"T_3b0da_row6_col0\" class=\"data row6 col0\" >Ordinal Features</td>\n",
       "      <td id=\"T_3b0da_row6_col1\" class=\"data row6 col1\" >False</td>\n",
       "    </tr>\n",
       "    <tr>\n",
       "      <th id=\"T_3b0da_level0_row7\" class=\"row_heading level0 row7\" >7</th>\n",
       "      <td id=\"T_3b0da_row7_col0\" class=\"data row7 col0\" >High Cardinality Features</td>\n",
       "      <td id=\"T_3b0da_row7_col1\" class=\"data row7 col1\" >False</td>\n",
       "    </tr>\n",
       "    <tr>\n",
       "      <th id=\"T_3b0da_level0_row8\" class=\"row_heading level0 row8\" >8</th>\n",
       "      <td id=\"T_3b0da_row8_col0\" class=\"data row8 col0\" >High Cardinality Method</td>\n",
       "      <td id=\"T_3b0da_row8_col1\" class=\"data row8 col1\" >None</td>\n",
       "    </tr>\n",
       "    <tr>\n",
       "      <th id=\"T_3b0da_level0_row9\" class=\"row_heading level0 row9\" >9</th>\n",
       "      <td id=\"T_3b0da_row9_col0\" class=\"data row9 col0\" >Transformed Train Set</td>\n",
       "      <td id=\"T_3b0da_row9_col1\" class=\"data row9 col1\" >(4365, 1539)</td>\n",
       "    </tr>\n",
       "    <tr>\n",
       "      <th id=\"T_3b0da_level0_row10\" class=\"row_heading level0 row10\" >10</th>\n",
       "      <td id=\"T_3b0da_row10_col0\" class=\"data row10 col0\" >Transformed Test Set</td>\n",
       "      <td id=\"T_3b0da_row10_col1\" class=\"data row10 col1\" >(1872, 1539)</td>\n",
       "    </tr>\n",
       "    <tr>\n",
       "      <th id=\"T_3b0da_level0_row11\" class=\"row_heading level0 row11\" >11</th>\n",
       "      <td id=\"T_3b0da_row11_col0\" class=\"data row11 col0\" >Shuffle Train-Test</td>\n",
       "      <td id=\"T_3b0da_row11_col1\" class=\"data row11 col1\" >True</td>\n",
       "    </tr>\n",
       "    <tr>\n",
       "      <th id=\"T_3b0da_level0_row12\" class=\"row_heading level0 row12\" >12</th>\n",
       "      <td id=\"T_3b0da_row12_col0\" class=\"data row12 col0\" >Stratify Train-Test</td>\n",
       "      <td id=\"T_3b0da_row12_col1\" class=\"data row12 col1\" >False</td>\n",
       "    </tr>\n",
       "    <tr>\n",
       "      <th id=\"T_3b0da_level0_row13\" class=\"row_heading level0 row13\" >13</th>\n",
       "      <td id=\"T_3b0da_row13_col0\" class=\"data row13 col0\" >Fold Generator</td>\n",
       "      <td id=\"T_3b0da_row13_col1\" class=\"data row13 col1\" >KFold</td>\n",
       "    </tr>\n",
       "    <tr>\n",
       "      <th id=\"T_3b0da_level0_row14\" class=\"row_heading level0 row14\" >14</th>\n",
       "      <td id=\"T_3b0da_row14_col0\" class=\"data row14 col0\" >Fold Number</td>\n",
       "      <td id=\"T_3b0da_row14_col1\" class=\"data row14 col1\" >10</td>\n",
       "    </tr>\n",
       "    <tr>\n",
       "      <th id=\"T_3b0da_level0_row15\" class=\"row_heading level0 row15\" >15</th>\n",
       "      <td id=\"T_3b0da_row15_col0\" class=\"data row15 col0\" >CPU Jobs</td>\n",
       "      <td id=\"T_3b0da_row15_col1\" class=\"data row15 col1\" >-1</td>\n",
       "    </tr>\n",
       "    <tr>\n",
       "      <th id=\"T_3b0da_level0_row16\" class=\"row_heading level0 row16\" >16</th>\n",
       "      <td id=\"T_3b0da_row16_col0\" class=\"data row16 col0\" >Use GPU</td>\n",
       "      <td id=\"T_3b0da_row16_col1\" class=\"data row16 col1\" >False</td>\n",
       "    </tr>\n",
       "    <tr>\n",
       "      <th id=\"T_3b0da_level0_row17\" class=\"row_heading level0 row17\" >17</th>\n",
       "      <td id=\"T_3b0da_row17_col0\" class=\"data row17 col0\" >Log Experiment</td>\n",
       "      <td id=\"T_3b0da_row17_col1\" class=\"data row17 col1\" >False</td>\n",
       "    </tr>\n",
       "    <tr>\n",
       "      <th id=\"T_3b0da_level0_row18\" class=\"row_heading level0 row18\" >18</th>\n",
       "      <td id=\"T_3b0da_row18_col0\" class=\"data row18 col0\" >Experiment Name</td>\n",
       "      <td id=\"T_3b0da_row18_col1\" class=\"data row18 col1\" >reg-default-name</td>\n",
       "    </tr>\n",
       "    <tr>\n",
       "      <th id=\"T_3b0da_level0_row19\" class=\"row_heading level0 row19\" >19</th>\n",
       "      <td id=\"T_3b0da_row19_col0\" class=\"data row19 col0\" >USI</td>\n",
       "      <td id=\"T_3b0da_row19_col1\" class=\"data row19 col1\" >217e</td>\n",
       "    </tr>\n",
       "    <tr>\n",
       "      <th id=\"T_3b0da_level0_row20\" class=\"row_heading level0 row20\" >20</th>\n",
       "      <td id=\"T_3b0da_row20_col0\" class=\"data row20 col0\" >Imputation Type</td>\n",
       "      <td id=\"T_3b0da_row20_col1\" class=\"data row20 col1\" >simple</td>\n",
       "    </tr>\n",
       "    <tr>\n",
       "      <th id=\"T_3b0da_level0_row21\" class=\"row_heading level0 row21\" >21</th>\n",
       "      <td id=\"T_3b0da_row21_col0\" class=\"data row21 col0\" >Iterative Imputation Iteration</td>\n",
       "      <td id=\"T_3b0da_row21_col1\" class=\"data row21 col1\" >None</td>\n",
       "    </tr>\n",
       "    <tr>\n",
       "      <th id=\"T_3b0da_level0_row22\" class=\"row_heading level0 row22\" >22</th>\n",
       "      <td id=\"T_3b0da_row22_col0\" class=\"data row22 col0\" >Numeric Imputer</td>\n",
       "      <td id=\"T_3b0da_row22_col1\" class=\"data row22 col1\" >mean</td>\n",
       "    </tr>\n",
       "    <tr>\n",
       "      <th id=\"T_3b0da_level0_row23\" class=\"row_heading level0 row23\" >23</th>\n",
       "      <td id=\"T_3b0da_row23_col0\" class=\"data row23 col0\" >Iterative Imputation Numeric Model</td>\n",
       "      <td id=\"T_3b0da_row23_col1\" class=\"data row23 col1\" >None</td>\n",
       "    </tr>\n",
       "    <tr>\n",
       "      <th id=\"T_3b0da_level0_row24\" class=\"row_heading level0 row24\" >24</th>\n",
       "      <td id=\"T_3b0da_row24_col0\" class=\"data row24 col0\" >Categorical Imputer</td>\n",
       "      <td id=\"T_3b0da_row24_col1\" class=\"data row24 col1\" >constant</td>\n",
       "    </tr>\n",
       "    <tr>\n",
       "      <th id=\"T_3b0da_level0_row25\" class=\"row_heading level0 row25\" >25</th>\n",
       "      <td id=\"T_3b0da_row25_col0\" class=\"data row25 col0\" >Iterative Imputation Categorical Model</td>\n",
       "      <td id=\"T_3b0da_row25_col1\" class=\"data row25 col1\" >None</td>\n",
       "    </tr>\n",
       "    <tr>\n",
       "      <th id=\"T_3b0da_level0_row26\" class=\"row_heading level0 row26\" >26</th>\n",
       "      <td id=\"T_3b0da_row26_col0\" class=\"data row26 col0\" >Unknown Categoricals Handling</td>\n",
       "      <td id=\"T_3b0da_row26_col1\" class=\"data row26 col1\" >least_frequent</td>\n",
       "    </tr>\n",
       "    <tr>\n",
       "      <th id=\"T_3b0da_level0_row27\" class=\"row_heading level0 row27\" >27</th>\n",
       "      <td id=\"T_3b0da_row27_col0\" class=\"data row27 col0\" >Normalize</td>\n",
       "      <td id=\"T_3b0da_row27_col1\" class=\"data row27 col1\" >False</td>\n",
       "    </tr>\n",
       "    <tr>\n",
       "      <th id=\"T_3b0da_level0_row28\" class=\"row_heading level0 row28\" >28</th>\n",
       "      <td id=\"T_3b0da_row28_col0\" class=\"data row28 col0\" >Normalize Method</td>\n",
       "      <td id=\"T_3b0da_row28_col1\" class=\"data row28 col1\" >None</td>\n",
       "    </tr>\n",
       "    <tr>\n",
       "      <th id=\"T_3b0da_level0_row29\" class=\"row_heading level0 row29\" >29</th>\n",
       "      <td id=\"T_3b0da_row29_col0\" class=\"data row29 col0\" >Transformation</td>\n",
       "      <td id=\"T_3b0da_row29_col1\" class=\"data row29 col1\" >False</td>\n",
       "    </tr>\n",
       "    <tr>\n",
       "      <th id=\"T_3b0da_level0_row30\" class=\"row_heading level0 row30\" >30</th>\n",
       "      <td id=\"T_3b0da_row30_col0\" class=\"data row30 col0\" >Transformation Method</td>\n",
       "      <td id=\"T_3b0da_row30_col1\" class=\"data row30 col1\" >None</td>\n",
       "    </tr>\n",
       "    <tr>\n",
       "      <th id=\"T_3b0da_level0_row31\" class=\"row_heading level0 row31\" >31</th>\n",
       "      <td id=\"T_3b0da_row31_col0\" class=\"data row31 col0\" >PCA</td>\n",
       "      <td id=\"T_3b0da_row31_col1\" class=\"data row31 col1\" >False</td>\n",
       "    </tr>\n",
       "    <tr>\n",
       "      <th id=\"T_3b0da_level0_row32\" class=\"row_heading level0 row32\" >32</th>\n",
       "      <td id=\"T_3b0da_row32_col0\" class=\"data row32 col0\" >PCA Method</td>\n",
       "      <td id=\"T_3b0da_row32_col1\" class=\"data row32 col1\" >None</td>\n",
       "    </tr>\n",
       "    <tr>\n",
       "      <th id=\"T_3b0da_level0_row33\" class=\"row_heading level0 row33\" >33</th>\n",
       "      <td id=\"T_3b0da_row33_col0\" class=\"data row33 col0\" >PCA Components</td>\n",
       "      <td id=\"T_3b0da_row33_col1\" class=\"data row33 col1\" >None</td>\n",
       "    </tr>\n",
       "    <tr>\n",
       "      <th id=\"T_3b0da_level0_row34\" class=\"row_heading level0 row34\" >34</th>\n",
       "      <td id=\"T_3b0da_row34_col0\" class=\"data row34 col0\" >Ignore Low Variance</td>\n",
       "      <td id=\"T_3b0da_row34_col1\" class=\"data row34 col1\" >False</td>\n",
       "    </tr>\n",
       "    <tr>\n",
       "      <th id=\"T_3b0da_level0_row35\" class=\"row_heading level0 row35\" >35</th>\n",
       "      <td id=\"T_3b0da_row35_col0\" class=\"data row35 col0\" >Combine Rare Levels</td>\n",
       "      <td id=\"T_3b0da_row35_col1\" class=\"data row35 col1\" >False</td>\n",
       "    </tr>\n",
       "    <tr>\n",
       "      <th id=\"T_3b0da_level0_row36\" class=\"row_heading level0 row36\" >36</th>\n",
       "      <td id=\"T_3b0da_row36_col0\" class=\"data row36 col0\" >Rare Level Threshold</td>\n",
       "      <td id=\"T_3b0da_row36_col1\" class=\"data row36 col1\" >None</td>\n",
       "    </tr>\n",
       "    <tr>\n",
       "      <th id=\"T_3b0da_level0_row37\" class=\"row_heading level0 row37\" >37</th>\n",
       "      <td id=\"T_3b0da_row37_col0\" class=\"data row37 col0\" >Numeric Binning</td>\n",
       "      <td id=\"T_3b0da_row37_col1\" class=\"data row37 col1\" >False</td>\n",
       "    </tr>\n",
       "    <tr>\n",
       "      <th id=\"T_3b0da_level0_row38\" class=\"row_heading level0 row38\" >38</th>\n",
       "      <td id=\"T_3b0da_row38_col0\" class=\"data row38 col0\" >Remove Outliers</td>\n",
       "      <td id=\"T_3b0da_row38_col1\" class=\"data row38 col1\" >False</td>\n",
       "    </tr>\n",
       "    <tr>\n",
       "      <th id=\"T_3b0da_level0_row39\" class=\"row_heading level0 row39\" >39</th>\n",
       "      <td id=\"T_3b0da_row39_col0\" class=\"data row39 col0\" >Outliers Threshold</td>\n",
       "      <td id=\"T_3b0da_row39_col1\" class=\"data row39 col1\" >None</td>\n",
       "    </tr>\n",
       "    <tr>\n",
       "      <th id=\"T_3b0da_level0_row40\" class=\"row_heading level0 row40\" >40</th>\n",
       "      <td id=\"T_3b0da_row40_col0\" class=\"data row40 col0\" >Remove Multicollinearity</td>\n",
       "      <td id=\"T_3b0da_row40_col1\" class=\"data row40 col1\" >False</td>\n",
       "    </tr>\n",
       "    <tr>\n",
       "      <th id=\"T_3b0da_level0_row41\" class=\"row_heading level0 row41\" >41</th>\n",
       "      <td id=\"T_3b0da_row41_col0\" class=\"data row41 col0\" >Multicollinearity Threshold</td>\n",
       "      <td id=\"T_3b0da_row41_col1\" class=\"data row41 col1\" >None</td>\n",
       "    </tr>\n",
       "    <tr>\n",
       "      <th id=\"T_3b0da_level0_row42\" class=\"row_heading level0 row42\" >42</th>\n",
       "      <td id=\"T_3b0da_row42_col0\" class=\"data row42 col0\" >Remove Perfect Collinearity</td>\n",
       "      <td id=\"T_3b0da_row42_col1\" class=\"data row42 col1\" >True</td>\n",
       "    </tr>\n",
       "    <tr>\n",
       "      <th id=\"T_3b0da_level0_row43\" class=\"row_heading level0 row43\" >43</th>\n",
       "      <td id=\"T_3b0da_row43_col0\" class=\"data row43 col0\" >Clustering</td>\n",
       "      <td id=\"T_3b0da_row43_col1\" class=\"data row43 col1\" >False</td>\n",
       "    </tr>\n",
       "    <tr>\n",
       "      <th id=\"T_3b0da_level0_row44\" class=\"row_heading level0 row44\" >44</th>\n",
       "      <td id=\"T_3b0da_row44_col0\" class=\"data row44 col0\" >Clustering Iteration</td>\n",
       "      <td id=\"T_3b0da_row44_col1\" class=\"data row44 col1\" >None</td>\n",
       "    </tr>\n",
       "    <tr>\n",
       "      <th id=\"T_3b0da_level0_row45\" class=\"row_heading level0 row45\" >45</th>\n",
       "      <td id=\"T_3b0da_row45_col0\" class=\"data row45 col0\" >Polynomial Features</td>\n",
       "      <td id=\"T_3b0da_row45_col1\" class=\"data row45 col1\" >False</td>\n",
       "    </tr>\n",
       "    <tr>\n",
       "      <th id=\"T_3b0da_level0_row46\" class=\"row_heading level0 row46\" >46</th>\n",
       "      <td id=\"T_3b0da_row46_col0\" class=\"data row46 col0\" >Polynomial Degree</td>\n",
       "      <td id=\"T_3b0da_row46_col1\" class=\"data row46 col1\" >None</td>\n",
       "    </tr>\n",
       "    <tr>\n",
       "      <th id=\"T_3b0da_level0_row47\" class=\"row_heading level0 row47\" >47</th>\n",
       "      <td id=\"T_3b0da_row47_col0\" class=\"data row47 col0\" >Trignometry Features</td>\n",
       "      <td id=\"T_3b0da_row47_col1\" class=\"data row47 col1\" >False</td>\n",
       "    </tr>\n",
       "    <tr>\n",
       "      <th id=\"T_3b0da_level0_row48\" class=\"row_heading level0 row48\" >48</th>\n",
       "      <td id=\"T_3b0da_row48_col0\" class=\"data row48 col0\" >Polynomial Threshold</td>\n",
       "      <td id=\"T_3b0da_row48_col1\" class=\"data row48 col1\" >None</td>\n",
       "    </tr>\n",
       "    <tr>\n",
       "      <th id=\"T_3b0da_level0_row49\" class=\"row_heading level0 row49\" >49</th>\n",
       "      <td id=\"T_3b0da_row49_col0\" class=\"data row49 col0\" >Group Features</td>\n",
       "      <td id=\"T_3b0da_row49_col1\" class=\"data row49 col1\" >False</td>\n",
       "    </tr>\n",
       "    <tr>\n",
       "      <th id=\"T_3b0da_level0_row50\" class=\"row_heading level0 row50\" >50</th>\n",
       "      <td id=\"T_3b0da_row50_col0\" class=\"data row50 col0\" >Feature Selection</td>\n",
       "      <td id=\"T_3b0da_row50_col1\" class=\"data row50 col1\" >False</td>\n",
       "    </tr>\n",
       "    <tr>\n",
       "      <th id=\"T_3b0da_level0_row51\" class=\"row_heading level0 row51\" >51</th>\n",
       "      <td id=\"T_3b0da_row51_col0\" class=\"data row51 col0\" >Feature Selection Method</td>\n",
       "      <td id=\"T_3b0da_row51_col1\" class=\"data row51 col1\" >classic</td>\n",
       "    </tr>\n",
       "    <tr>\n",
       "      <th id=\"T_3b0da_level0_row52\" class=\"row_heading level0 row52\" >52</th>\n",
       "      <td id=\"T_3b0da_row52_col0\" class=\"data row52 col0\" >Features Selection Threshold</td>\n",
       "      <td id=\"T_3b0da_row52_col1\" class=\"data row52 col1\" >None</td>\n",
       "    </tr>\n",
       "    <tr>\n",
       "      <th id=\"T_3b0da_level0_row53\" class=\"row_heading level0 row53\" >53</th>\n",
       "      <td id=\"T_3b0da_row53_col0\" class=\"data row53 col0\" >Feature Interaction</td>\n",
       "      <td id=\"T_3b0da_row53_col1\" class=\"data row53 col1\" >False</td>\n",
       "    </tr>\n",
       "    <tr>\n",
       "      <th id=\"T_3b0da_level0_row54\" class=\"row_heading level0 row54\" >54</th>\n",
       "      <td id=\"T_3b0da_row54_col0\" class=\"data row54 col0\" >Feature Ratio</td>\n",
       "      <td id=\"T_3b0da_row54_col1\" class=\"data row54 col1\" >False</td>\n",
       "    </tr>\n",
       "    <tr>\n",
       "      <th id=\"T_3b0da_level0_row55\" class=\"row_heading level0 row55\" >55</th>\n",
       "      <td id=\"T_3b0da_row55_col0\" class=\"data row55 col0\" >Interaction Threshold</td>\n",
       "      <td id=\"T_3b0da_row55_col1\" class=\"data row55 col1\" >None</td>\n",
       "    </tr>\n",
       "    <tr>\n",
       "      <th id=\"T_3b0da_level0_row56\" class=\"row_heading level0 row56\" >56</th>\n",
       "      <td id=\"T_3b0da_row56_col0\" class=\"data row56 col0\" >Transform Target</td>\n",
       "      <td id=\"T_3b0da_row56_col1\" class=\"data row56 col1\" >False</td>\n",
       "    </tr>\n",
       "    <tr>\n",
       "      <th id=\"T_3b0da_level0_row57\" class=\"row_heading level0 row57\" >57</th>\n",
       "      <td id=\"T_3b0da_row57_col0\" class=\"data row57 col0\" >Transform Target Method</td>\n",
       "      <td id=\"T_3b0da_row57_col1\" class=\"data row57 col1\" >box-cox</td>\n",
       "    </tr>\n",
       "  </tbody>\n",
       "</table>\n"
      ],
      "text/plain": [
       "<pandas.io.formats.style.Styler at 0x1facffe1bc8>"
      ]
     },
     "metadata": {},
     "output_type": "display_data"
    }
   ],
   "source": [
    "_ = setup(data=pd.concat([train_final, log_target], axis=1), target='Price', numeric_features=train_final.columns.to_list())"
   ]
  },
  {
   "cell_type": "code",
   "execution_count": 32,
   "id": "0159a85e",
   "metadata": {},
   "outputs": [
    {
     "data": {
      "text/html": [
       "<style type=\"text/css\">\n",
       "#T_fd1d0_ th {\n",
       "  text-align: left;\n",
       "}\n",
       "#T_fd1d0_row0_col0, #T_fd1d0_row1_col0, #T_fd1d0_row1_col1, #T_fd1d0_row1_col2, #T_fd1d0_row1_col3, #T_fd1d0_row1_col4, #T_fd1d0_row1_col5, #T_fd1d0_row1_col6, #T_fd1d0_row2_col0, #T_fd1d0_row2_col1, #T_fd1d0_row2_col2, #T_fd1d0_row2_col3, #T_fd1d0_row2_col4, #T_fd1d0_row2_col5, #T_fd1d0_row2_col6, #T_fd1d0_row3_col0, #T_fd1d0_row3_col1, #T_fd1d0_row3_col2, #T_fd1d0_row3_col3, #T_fd1d0_row3_col4, #T_fd1d0_row3_col5, #T_fd1d0_row3_col6, #T_fd1d0_row4_col0, #T_fd1d0_row4_col1, #T_fd1d0_row4_col2, #T_fd1d0_row4_col3, #T_fd1d0_row4_col4, #T_fd1d0_row4_col5, #T_fd1d0_row4_col6, #T_fd1d0_row5_col0, #T_fd1d0_row5_col1, #T_fd1d0_row5_col2, #T_fd1d0_row5_col3, #T_fd1d0_row5_col4, #T_fd1d0_row5_col5, #T_fd1d0_row5_col6, #T_fd1d0_row6_col0, #T_fd1d0_row6_col1, #T_fd1d0_row6_col2, #T_fd1d0_row6_col3, #T_fd1d0_row6_col4, #T_fd1d0_row6_col5, #T_fd1d0_row6_col6, #T_fd1d0_row7_col0, #T_fd1d0_row7_col1, #T_fd1d0_row7_col2, #T_fd1d0_row7_col3, #T_fd1d0_row7_col4, #T_fd1d0_row7_col5, #T_fd1d0_row7_col6, #T_fd1d0_row8_col0, #T_fd1d0_row8_col1, #T_fd1d0_row8_col2, #T_fd1d0_row8_col3, #T_fd1d0_row8_col4, #T_fd1d0_row8_col5, #T_fd1d0_row8_col6, #T_fd1d0_row9_col0, #T_fd1d0_row9_col1, #T_fd1d0_row9_col2, #T_fd1d0_row9_col3, #T_fd1d0_row9_col4, #T_fd1d0_row9_col5, #T_fd1d0_row9_col6, #T_fd1d0_row10_col0, #T_fd1d0_row10_col1, #T_fd1d0_row10_col2, #T_fd1d0_row10_col3, #T_fd1d0_row10_col4, #T_fd1d0_row10_col5, #T_fd1d0_row10_col6, #T_fd1d0_row11_col0, #T_fd1d0_row11_col1, #T_fd1d0_row11_col2, #T_fd1d0_row11_col3, #T_fd1d0_row11_col4, #T_fd1d0_row11_col5, #T_fd1d0_row11_col6, #T_fd1d0_row12_col0, #T_fd1d0_row12_col1, #T_fd1d0_row12_col2, #T_fd1d0_row12_col3, #T_fd1d0_row12_col4, #T_fd1d0_row12_col5, #T_fd1d0_row12_col6, #T_fd1d0_row13_col0, #T_fd1d0_row13_col1, #T_fd1d0_row13_col2, #T_fd1d0_row13_col3, #T_fd1d0_row13_col4, #T_fd1d0_row13_col5, #T_fd1d0_row13_col6, #T_fd1d0_row14_col0, #T_fd1d0_row14_col1, #T_fd1d0_row14_col2, #T_fd1d0_row14_col3, #T_fd1d0_row14_col4, #T_fd1d0_row14_col5, #T_fd1d0_row14_col6, #T_fd1d0_row15_col0, #T_fd1d0_row15_col1, #T_fd1d0_row15_col2, #T_fd1d0_row15_col3, #T_fd1d0_row15_col4, #T_fd1d0_row15_col5, #T_fd1d0_row15_col6, #T_fd1d0_row16_col0, #T_fd1d0_row16_col1, #T_fd1d0_row16_col2, #T_fd1d0_row16_col3, #T_fd1d0_row16_col4, #T_fd1d0_row16_col5, #T_fd1d0_row16_col6 {\n",
       "  text-align: left;\n",
       "}\n",
       "#T_fd1d0_row0_col1, #T_fd1d0_row0_col2, #T_fd1d0_row0_col3, #T_fd1d0_row0_col4, #T_fd1d0_row0_col5, #T_fd1d0_row0_col6 {\n",
       "  text-align: left;\n",
       "  background-color: yellow;\n",
       "}\n",
       "#T_fd1d0_row0_col7, #T_fd1d0_row1_col7, #T_fd1d0_row2_col7, #T_fd1d0_row3_col7, #T_fd1d0_row4_col7, #T_fd1d0_row5_col7, #T_fd1d0_row6_col7, #T_fd1d0_row7_col7, #T_fd1d0_row8_col7, #T_fd1d0_row9_col7, #T_fd1d0_row10_col7, #T_fd1d0_row11_col7, #T_fd1d0_row12_col7, #T_fd1d0_row14_col7, #T_fd1d0_row15_col7, #T_fd1d0_row16_col7 {\n",
       "  text-align: left;\n",
       "  background-color: lightgrey;\n",
       "}\n",
       "#T_fd1d0_row13_col7 {\n",
       "  text-align: left;\n",
       "  background-color: yellow;\n",
       "  background-color: lightgrey;\n",
       "}\n",
       "</style>\n",
       "<table id=\"T_fd1d0_\">\n",
       "  <thead>\n",
       "    <tr>\n",
       "      <th class=\"blank level0\" >&nbsp;</th>\n",
       "      <th class=\"col_heading level0 col0\" >Model</th>\n",
       "      <th class=\"col_heading level0 col1\" >MAE</th>\n",
       "      <th class=\"col_heading level0 col2\" >MSE</th>\n",
       "      <th class=\"col_heading level0 col3\" >RMSE</th>\n",
       "      <th class=\"col_heading level0 col4\" >R2</th>\n",
       "      <th class=\"col_heading level0 col5\" >RMSLE</th>\n",
       "      <th class=\"col_heading level0 col6\" >MAPE</th>\n",
       "      <th class=\"col_heading level0 col7\" >TT (Sec)</th>\n",
       "    </tr>\n",
       "  </thead>\n",
       "  <tbody>\n",
       "    <tr>\n",
       "      <th id=\"T_fd1d0_level0_row0\" class=\"row_heading level0 row0\" >ridge</th>\n",
       "      <td id=\"T_fd1d0_row0_col0\" class=\"data row0 col0\" >Ridge Regression</td>\n",
       "      <td id=\"T_fd1d0_row0_col1\" class=\"data row0 col1\" >0.4312</td>\n",
       "      <td id=\"T_fd1d0_row0_col2\" class=\"data row0 col2\" >0.3372</td>\n",
       "      <td id=\"T_fd1d0_row0_col3\" class=\"data row0 col3\" >0.5804</td>\n",
       "      <td id=\"T_fd1d0_row0_col4\" class=\"data row0 col4\" >0.4325</td>\n",
       "      <td id=\"T_fd1d0_row0_col5\" class=\"data row0 col5\" >0.0823</td>\n",
       "      <td id=\"T_fd1d0_row0_col6\" class=\"data row0 col6\" >0.0727</td>\n",
       "      <td id=\"T_fd1d0_row0_col7\" class=\"data row0 col7\" >0.0850</td>\n",
       "    </tr>\n",
       "    <tr>\n",
       "      <th id=\"T_fd1d0_level0_row1\" class=\"row_heading level0 row1\" >br</th>\n",
       "      <td id=\"T_fd1d0_row1_col0\" class=\"data row1 col0\" >Bayesian Ridge</td>\n",
       "      <td id=\"T_fd1d0_row1_col1\" class=\"data row1 col1\" >0.4371</td>\n",
       "      <td id=\"T_fd1d0_row1_col2\" class=\"data row1 col2\" >0.3422</td>\n",
       "      <td id=\"T_fd1d0_row1_col3\" class=\"data row1 col3\" >0.5847</td>\n",
       "      <td id=\"T_fd1d0_row1_col4\" class=\"data row1 col4\" >0.4244</td>\n",
       "      <td id=\"T_fd1d0_row1_col5\" class=\"data row1 col5\" >0.0831</td>\n",
       "      <td id=\"T_fd1d0_row1_col6\" class=\"data row1 col6\" >0.0739</td>\n",
       "      <td id=\"T_fd1d0_row1_col7\" class=\"data row1 col7\" >2.8010</td>\n",
       "    </tr>\n",
       "    <tr>\n",
       "      <th id=\"T_fd1d0_level0_row2\" class=\"row_heading level0 row2\" >rf</th>\n",
       "      <td id=\"T_fd1d0_row2_col0\" class=\"data row2 col0\" >Random Forest Regressor</td>\n",
       "      <td id=\"T_fd1d0_row2_col1\" class=\"data row2 col1\" >0.4385</td>\n",
       "      <td id=\"T_fd1d0_row2_col2\" class=\"data row2 col2\" >0.3593</td>\n",
       "      <td id=\"T_fd1d0_row2_col3\" class=\"data row2 col3\" >0.5990</td>\n",
       "      <td id=\"T_fd1d0_row2_col4\" class=\"data row2 col4\" >0.3971</td>\n",
       "      <td id=\"T_fd1d0_row2_col5\" class=\"data row2 col5\" >0.0848</td>\n",
       "      <td id=\"T_fd1d0_row2_col6\" class=\"data row2 col6\" >0.0736</td>\n",
       "      <td id=\"T_fd1d0_row2_col7\" class=\"data row2 col7\" >2.3570</td>\n",
       "    </tr>\n",
       "    <tr>\n",
       "      <th id=\"T_fd1d0_level0_row3\" class=\"row_heading level0 row3\" >omp</th>\n",
       "      <td id=\"T_fd1d0_row3_col0\" class=\"data row3 col0\" >Orthogonal Matching Pursuit</td>\n",
       "      <td id=\"T_fd1d0_row3_col1\" class=\"data row3 col1\" >0.4596</td>\n",
       "      <td id=\"T_fd1d0_row3_col2\" class=\"data row3 col2\" >0.3729</td>\n",
       "      <td id=\"T_fd1d0_row3_col3\" class=\"data row3 col3\" >0.6103</td>\n",
       "      <td id=\"T_fd1d0_row3_col4\" class=\"data row3 col4\" >0.3724</td>\n",
       "      <td id=\"T_fd1d0_row3_col5\" class=\"data row3 col5\" >0.0866</td>\n",
       "      <td id=\"T_fd1d0_row3_col6\" class=\"data row3 col6\" >0.0775</td>\n",
       "      <td id=\"T_fd1d0_row3_col7\" class=\"data row3 col7\" >0.0860</td>\n",
       "    </tr>\n",
       "    <tr>\n",
       "      <th id=\"T_fd1d0_level0_row4\" class=\"row_heading level0 row4\" >gbr</th>\n",
       "      <td id=\"T_fd1d0_row4_col0\" class=\"data row4 col0\" >Gradient Boosting Regressor</td>\n",
       "      <td id=\"T_fd1d0_row4_col1\" class=\"data row4 col1\" >0.4679</td>\n",
       "      <td id=\"T_fd1d0_row4_col2\" class=\"data row4 col2\" >0.3845</td>\n",
       "      <td id=\"T_fd1d0_row4_col3\" class=\"data row4 col3\" >0.6198</td>\n",
       "      <td id=\"T_fd1d0_row4_col4\" class=\"data row4 col4\" >0.3543</td>\n",
       "      <td id=\"T_fd1d0_row4_col5\" class=\"data row4 col5\" >0.0882</td>\n",
       "      <td id=\"T_fd1d0_row4_col6\" class=\"data row4 col6\" >0.0791</td>\n",
       "      <td id=\"T_fd1d0_row4_col7\" class=\"data row4 col7\" >1.2350</td>\n",
       "    </tr>\n",
       "    <tr>\n",
       "      <th id=\"T_fd1d0_level0_row5\" class=\"row_heading level0 row5\" >et</th>\n",
       "      <td id=\"T_fd1d0_row5_col0\" class=\"data row5 col0\" >Extra Trees Regressor</td>\n",
       "      <td id=\"T_fd1d0_row5_col1\" class=\"data row5 col1\" >0.4448</td>\n",
       "      <td id=\"T_fd1d0_row5_col2\" class=\"data row5 col2\" >0.3853</td>\n",
       "      <td id=\"T_fd1d0_row5_col3\" class=\"data row5 col3\" >0.6203</td>\n",
       "      <td id=\"T_fd1d0_row5_col4\" class=\"data row5 col4\" >0.3517</td>\n",
       "      <td id=\"T_fd1d0_row5_col5\" class=\"data row5 col5\" >0.0872</td>\n",
       "      <td id=\"T_fd1d0_row5_col6\" class=\"data row5 col6\" >0.0743</td>\n",
       "      <td id=\"T_fd1d0_row5_col7\" class=\"data row5 col7\" >3.9120</td>\n",
       "    </tr>\n",
       "    <tr>\n",
       "      <th id=\"T_fd1d0_level0_row6\" class=\"row_heading level0 row6\" >lightgbm</th>\n",
       "      <td id=\"T_fd1d0_row6_col0\" class=\"data row6 col0\" >Light Gradient Boosting Machine</td>\n",
       "      <td id=\"T_fd1d0_row6_col1\" class=\"data row6 col1\" >0.4684</td>\n",
       "      <td id=\"T_fd1d0_row6_col2\" class=\"data row6 col2\" >0.3924</td>\n",
       "      <td id=\"T_fd1d0_row6_col3\" class=\"data row6 col3\" >0.6260</td>\n",
       "      <td id=\"T_fd1d0_row6_col4\" class=\"data row6 col4\" >0.3413</td>\n",
       "      <td id=\"T_fd1d0_row6_col5\" class=\"data row6 col5\" >0.0896</td>\n",
       "      <td id=\"T_fd1d0_row6_col6\" class=\"data row6 col6\" >0.0795</td>\n",
       "      <td id=\"T_fd1d0_row6_col7\" class=\"data row6 col7\" >0.1130</td>\n",
       "    </tr>\n",
       "    <tr>\n",
       "      <th id=\"T_fd1d0_level0_row7\" class=\"row_heading level0 row7\" >knn</th>\n",
       "      <td id=\"T_fd1d0_row7_col0\" class=\"data row7 col0\" >K Neighbors Regressor</td>\n",
       "      <td id=\"T_fd1d0_row7_col1\" class=\"data row7 col1\" >0.4726</td>\n",
       "      <td id=\"T_fd1d0_row7_col2\" class=\"data row7 col2\" >0.4069</td>\n",
       "      <td id=\"T_fd1d0_row7_col3\" class=\"data row7 col3\" >0.6374</td>\n",
       "      <td id=\"T_fd1d0_row7_col4\" class=\"data row7 col4\" >0.3175</td>\n",
       "      <td id=\"T_fd1d0_row7_col5\" class=\"data row7 col5\" >0.0906</td>\n",
       "      <td id=\"T_fd1d0_row7_col6\" class=\"data row7 col6\" >0.0797</td>\n",
       "      <td id=\"T_fd1d0_row7_col7\" class=\"data row7 col7\" >0.7530</td>\n",
       "    </tr>\n",
       "    <tr>\n",
       "      <th id=\"T_fd1d0_level0_row8\" class=\"row_heading level0 row8\" >ada</th>\n",
       "      <td id=\"T_fd1d0_row8_col0\" class=\"data row8 col0\" >AdaBoost Regressor</td>\n",
       "      <td id=\"T_fd1d0_row8_col1\" class=\"data row8 col1\" >0.5440</td>\n",
       "      <td id=\"T_fd1d0_row8_col2\" class=\"data row8 col2\" >0.4986</td>\n",
       "      <td id=\"T_fd1d0_row8_col3\" class=\"data row8 col3\" >0.7057</td>\n",
       "      <td id=\"T_fd1d0_row8_col4\" class=\"data row8 col4\" >0.1634</td>\n",
       "      <td id=\"T_fd1d0_row8_col5\" class=\"data row8 col5\" >0.1018</td>\n",
       "      <td id=\"T_fd1d0_row8_col6\" class=\"data row8 col6\" >0.0940</td>\n",
       "      <td id=\"T_fd1d0_row8_col7\" class=\"data row8 col7\" >1.4740</td>\n",
       "    </tr>\n",
       "    <tr>\n",
       "      <th id=\"T_fd1d0_level0_row9\" class=\"row_heading level0 row9\" >dt</th>\n",
       "      <td id=\"T_fd1d0_row9_col0\" class=\"data row9 col0\" >Decision Tree Regressor</td>\n",
       "      <td id=\"T_fd1d0_row9_col1\" class=\"data row9 col1\" >0.5470</td>\n",
       "      <td id=\"T_fd1d0_row9_col2\" class=\"data row9 col2\" >0.5678</td>\n",
       "      <td id=\"T_fd1d0_row9_col3\" class=\"data row9 col3\" >0.7530</td>\n",
       "      <td id=\"T_fd1d0_row9_col4\" class=\"data row9 col4\" >0.0464</td>\n",
       "      <td id=\"T_fd1d0_row9_col5\" class=\"data row9 col5\" >0.1063</td>\n",
       "      <td id=\"T_fd1d0_row9_col6\" class=\"data row9 col6\" >0.0915</td>\n",
       "      <td id=\"T_fd1d0_row9_col7\" class=\"data row9 col7\" >0.1040</td>\n",
       "    </tr>\n",
       "    <tr>\n",
       "      <th id=\"T_fd1d0_level0_row10\" class=\"row_heading level0 row10\" >lasso</th>\n",
       "      <td id=\"T_fd1d0_row10_col0\" class=\"data row10 col0\" >Lasso Regression</td>\n",
       "      <td id=\"T_fd1d0_row10_col1\" class=\"data row10 col1\" >0.5864</td>\n",
       "      <td id=\"T_fd1d0_row10_col2\" class=\"data row10 col2\" >0.5995</td>\n",
       "      <td id=\"T_fd1d0_row10_col3\" class=\"data row10 col3\" >0.7737</td>\n",
       "      <td id=\"T_fd1d0_row10_col4\" class=\"data row10 col4\" >-0.0038</td>\n",
       "      <td id=\"T_fd1d0_row10_col5\" class=\"data row10 col5\" >0.1107</td>\n",
       "      <td id=\"T_fd1d0_row10_col6\" class=\"data row10 col6\" >0.0998</td>\n",
       "      <td id=\"T_fd1d0_row10_col7\" class=\"data row10 col7\" >0.0490</td>\n",
       "    </tr>\n",
       "    <tr>\n",
       "      <th id=\"T_fd1d0_level0_row11\" class=\"row_heading level0 row11\" >en</th>\n",
       "      <td id=\"T_fd1d0_row11_col0\" class=\"data row11 col0\" >Elastic Net</td>\n",
       "      <td id=\"T_fd1d0_row11_col1\" class=\"data row11 col1\" >0.5864</td>\n",
       "      <td id=\"T_fd1d0_row11_col2\" class=\"data row11 col2\" >0.5995</td>\n",
       "      <td id=\"T_fd1d0_row11_col3\" class=\"data row11 col3\" >0.7737</td>\n",
       "      <td id=\"T_fd1d0_row11_col4\" class=\"data row11 col4\" >-0.0038</td>\n",
       "      <td id=\"T_fd1d0_row11_col5\" class=\"data row11 col5\" >0.1107</td>\n",
       "      <td id=\"T_fd1d0_row11_col6\" class=\"data row11 col6\" >0.0998</td>\n",
       "      <td id=\"T_fd1d0_row11_col7\" class=\"data row11 col7\" >0.0480</td>\n",
       "    </tr>\n",
       "    <tr>\n",
       "      <th id=\"T_fd1d0_level0_row12\" class=\"row_heading level0 row12\" >llar</th>\n",
       "      <td id=\"T_fd1d0_row12_col0\" class=\"data row12 col0\" >Lasso Least Angle Regression</td>\n",
       "      <td id=\"T_fd1d0_row12_col1\" class=\"data row12 col1\" >0.5864</td>\n",
       "      <td id=\"T_fd1d0_row12_col2\" class=\"data row12 col2\" >0.5995</td>\n",
       "      <td id=\"T_fd1d0_row12_col3\" class=\"data row12 col3\" >0.7737</td>\n",
       "      <td id=\"T_fd1d0_row12_col4\" class=\"data row12 col4\" >-0.0038</td>\n",
       "      <td id=\"T_fd1d0_row12_col5\" class=\"data row12 col5\" >0.1107</td>\n",
       "      <td id=\"T_fd1d0_row12_col6\" class=\"data row12 col6\" >0.0998</td>\n",
       "      <td id=\"T_fd1d0_row12_col7\" class=\"data row12 col7\" >0.0820</td>\n",
       "    </tr>\n",
       "    <tr>\n",
       "      <th id=\"T_fd1d0_level0_row13\" class=\"row_heading level0 row13\" >dummy</th>\n",
       "      <td id=\"T_fd1d0_row13_col0\" class=\"data row13 col0\" >Dummy Regressor</td>\n",
       "      <td id=\"T_fd1d0_row13_col1\" class=\"data row13 col1\" >0.5864</td>\n",
       "      <td id=\"T_fd1d0_row13_col2\" class=\"data row13 col2\" >0.5995</td>\n",
       "      <td id=\"T_fd1d0_row13_col3\" class=\"data row13 col3\" >0.7737</td>\n",
       "      <td id=\"T_fd1d0_row13_col4\" class=\"data row13 col4\" >-0.0038</td>\n",
       "      <td id=\"T_fd1d0_row13_col5\" class=\"data row13 col5\" >0.1107</td>\n",
       "      <td id=\"T_fd1d0_row13_col6\" class=\"data row13 col6\" >0.0998</td>\n",
       "      <td id=\"T_fd1d0_row13_col7\" class=\"data row13 col7\" >0.0320</td>\n",
       "    </tr>\n",
       "    <tr>\n",
       "      <th id=\"T_fd1d0_level0_row14\" class=\"row_heading level0 row14\" >par</th>\n",
       "      <td id=\"T_fd1d0_row14_col0\" class=\"data row14 col0\" >Passive Aggressive Regressor</td>\n",
       "      <td id=\"T_fd1d0_row14_col1\" class=\"data row14 col1\" >0.6960</td>\n",
       "      <td id=\"T_fd1d0_row14_col2\" class=\"data row14 col2\" >0.8142</td>\n",
       "      <td id=\"T_fd1d0_row14_col3\" class=\"data row14 col3\" >0.8629</td>\n",
       "      <td id=\"T_fd1d0_row14_col4\" class=\"data row14 col4\" >-0.3397</td>\n",
       "      <td id=\"T_fd1d0_row14_col5\" class=\"data row14 col5\" >0.1268</td>\n",
       "      <td id=\"T_fd1d0_row14_col6\" class=\"data row14 col6\" >0.1151</td>\n",
       "      <td id=\"T_fd1d0_row14_col7\" class=\"data row14 col7\" >0.1340</td>\n",
       "    </tr>\n",
       "    <tr>\n",
       "      <th id=\"T_fd1d0_level0_row15\" class=\"row_heading level0 row15\" >lar</th>\n",
       "      <td id=\"T_fd1d0_row15_col0\" class=\"data row15 col0\" >Least Angle Regression</td>\n",
       "      <td id=\"T_fd1d0_row15_col1\" class=\"data row15 col1\" >5.8573</td>\n",
       "      <td id=\"T_fd1d0_row15_col2\" class=\"data row15 col2\" >49385.9365</td>\n",
       "      <td id=\"T_fd1d0_row15_col3\" class=\"data row15 col3\" >97.5828</td>\n",
       "      <td id=\"T_fd1d0_row15_col4\" class=\"data row15 col4\" >-93001.6429</td>\n",
       "      <td id=\"T_fd1d0_row15_col5\" class=\"data row15 col5\" >0.1510</td>\n",
       "      <td id=\"T_fd1d0_row15_col6\" class=\"data row15 col6\" >1.0444</td>\n",
       "      <td id=\"T_fd1d0_row15_col7\" class=\"data row15 col7\" >0.2770</td>\n",
       "    </tr>\n",
       "    <tr>\n",
       "      <th id=\"T_fd1d0_level0_row16\" class=\"row_heading level0 row16\" >lr</th>\n",
       "      <td id=\"T_fd1d0_row16_col0\" class=\"data row16 col0\" >Linear Regression</td>\n",
       "      <td id=\"T_fd1d0_row16_col1\" class=\"data row16 col1\" >1062.1804</td>\n",
       "      <td id=\"T_fd1d0_row16_col2\" class=\"data row16 col2\" >23911530.3000</td>\n",
       "      <td id=\"T_fd1d0_row16_col3\" class=\"data row16 col3\" >4651.9117</td>\n",
       "      <td id=\"T_fd1d0_row16_col4\" class=\"data row16 col4\" >-40689593.3779</td>\n",
       "      <td id=\"T_fd1d0_row16_col5\" class=\"data row16 col5\" >2.1138</td>\n",
       "      <td id=\"T_fd1d0_row16_col6\" class=\"data row16 col6\" >176.2020</td>\n",
       "      <td id=\"T_fd1d0_row16_col7\" class=\"data row16 col7\" >0.9600</td>\n",
       "    </tr>\n",
       "  </tbody>\n",
       "</table>\n"
      ],
      "text/plain": [
       "<pandas.io.formats.style.Styler at 0x1faceace3c8>"
      ]
     },
     "metadata": {},
     "output_type": "display_data"
    },
    {
     "data": {
      "text/plain": [
       "Ridge(alpha=1.0, copy_X=True, fit_intercept=True, max_iter=None,\n",
       "      normalize=False, random_state=5742, solver='auto', tol=0.001)"
      ]
     },
     "execution_count": 32,
     "metadata": {},
     "output_type": "execute_result"
    }
   ],
   "source": [
    "compare_models()"
   ]
  },
  {
   "cell_type": "markdown",
   "id": "5b1296d1",
   "metadata": {},
   "source": [
    "# Hyperparameters Optimization"
   ]
  },
  {
   "cell_type": "code",
   "execution_count": 49,
   "id": "34cf8fee",
   "metadata": {},
   "outputs": [],
   "source": [
    "# def ridge(trial):\n",
    "#     alpha = trial.suggest_int('alpha', 0, 1000)\n",
    "#     tol = trial.suggest_loguniform('tol', 1e-8, 10.0)\n",
    "        \n",
    "#     model = Ridge(\n",
    "#         alpha=alpha,\n",
    "#         tol=tol\n",
    "#     )\n",
    "    \n",
    "#     model.fit(train_final, log_target)\n",
    "    \n",
    "#     cv_scores = np.exp(np.sqrt(-cross_val_score(model, train_final, log_target, scoring='neg_mean_squared_error', cv=kf)))\n",
    "    \n",
    "#     return np.mean(cv_scores)\n",
    "\n",
    "# def br(trial):\n",
    "#     n_iter = trial.suggest_int('n_iter', 50, 600)\n",
    "#     tol = trial.suggest_loguniform('tol', 1e-8, 10.0)\n",
    "#     alpha_1 = trial.suggest_loguniform('alpha_1', 1e-8, 10.0)\n",
    "#     alpha_2 = trial.suggest_loguniform('alpha_2', 1e-8, 10.0)\n",
    "#     lambda_1 = trial.suggest_loguniform('lambda_1', 1e-8, 10.0)\n",
    "#     lambda_2 = trial.suggest_loguniform('lambda_2', 1e-8, 10.0)\n",
    "    \n",
    "#     model = BayesianRidge(\n",
    "#         n_iter=n_iter,\n",
    "#         tol=tol,\n",
    "#         alpha_1=alpha_1,\n",
    "#         alpha_2=alpha_2,\n",
    "#         lambda_1=lambda_1,\n",
    "#         lambda_2=lambda_2\n",
    "#     )\n",
    "    \n",
    "#     model.fit(train_final, log_target)\n",
    "    \n",
    "#     cv_scores = np.exp(np.sqrt(-cross_val_score(model, train_final, log_target, scoring='neg_mean_squared_error', cv=kf)))\n",
    "    \n",
    "#     return np.mean(cv_scores)\n",
    "\n",
    "# def rf(trial):\n",
    "#     n_estimators = trial.suggest_int('n_estimators', 10, 500)\n",
    "#     max_depth = trial.suggest_int('max_depth', 1, 100)\n",
    "#     min_samples_leaf = trial.suggest_int('min_samples_leaf', 1, 100)\n",
    "#     max_leaf_nodes = trial.suggest_int('max_leaf_nodes', 2, 100)\n",
    "#     model = RandomForestRegressor(\n",
    "#         n_estimators=n_estimators,\n",
    "#         max_depth=max_depth,\n",
    "#         min_samples_leaf=min_samples_leaf,\n",
    "#         max_leaf_nodes=max_leaf_nodes\n",
    "#     )\n",
    "    \n",
    "#     model.fit(train_final, log_target)\n",
    "    \n",
    "#     cv_scores = np.exp(np.sqrt(-cross_val_score(model, train_final, log_target, scoring='neg_mean_squared_error', cv=kf)))\n",
    "    \n",
    "#     return np.mean(cv_scores)\n",
    "\n",
    "# def omp(trial):\n",
    "#     tol = trial.suggest_loguniform('tol', 1e-8, 10.0)\n",
    "    \n",
    "#     model = OrthogonalMatchingPursuit(\n",
    "#         tol=tol\n",
    "#     )\n",
    "    \n",
    "#     model.fit(train_final, log_target)\n",
    "    \n",
    "#     cv_scores = np.exp(np.sqrt(-cross_val_score(model, train_final, log_target, scoring='neg_mean_squared_error', cv=kf)))\n",
    "    \n",
    "#     return np.mean(cv_scores)\n",
    "\n",
    "# def gbr(trial):\n",
    "#     learning_rate = trial.suggest_loguniform('learning_rate', .001, 1)\n",
    "#     n_estimators = trial.suggest_int('n_estimators', 10, 500)\n",
    "#     min_samples_leaf = trial.suggest_int('min_samples_leaf', 1, 100)\n",
    "#     max_depth = trial.suggest_int('max_depth', 1, 100)\n",
    "#     max_leaf_nodes = trial.suggest_int('max_leaf_nodes', 2, 100)\n",
    "    \n",
    "#     model = GradientBoostingRegressor(\n",
    "#         learning_rate=learning_rate,\n",
    "#         n_estimators=n_estimators,\n",
    "#         min_samples_leaf=min_samples_leaf,\n",
    "#         max_depth=max_depth,\n",
    "#         max_leaf_nodes=max_leaf_nodes\n",
    "#     )\n",
    "    \n",
    "#     model.fit(train_final, log_target)\n",
    "    \n",
    "#     cv_scores = np.exp(np.sqrt(-cross_val_score(model, train_final, log_target, scoring='neg_mean_squared_error', cv=kf)))\n",
    "    \n",
    "#     return np.mean(cv_scores)"
   ]
  },
  {
   "cell_type": "code",
   "execution_count": 38,
   "id": "14b539b4",
   "metadata": {},
   "outputs": [
    {
     "name": "stderr",
     "output_type": "stream",
     "text": [
      "\u001b[32m[I 2023-03-11 22:06:37,326]\u001b[0m A new study created in memory with name: no-name-29505608-3125-42d0-971a-976cec105ebb\u001b[0m\n"
     ]
    },
    {
     "data": {
      "text/plain": [
       "{'alpha': 32, 'tol': 1.5859746737704867e-07}"
      ]
     },
     "execution_count": 38,
     "metadata": {},
     "output_type": "execute_result"
    }
   ],
   "source": [
    "# study = optuna.create_study(direction='minimize')\n",
    "# optuna.logging.set_verbosity(optuna.logging.WARNING)\n",
    "# study.optimize(ridge, n_trials=10)\n",
    "# study.best_params"
   ]
  },
  {
   "cell_type": "code",
   "execution_count": 41,
   "id": "2dbfa87d",
   "metadata": {},
   "outputs": [
    {
     "data": {
      "text/plain": [
       "{'n_iter': 74,\n",
       " 'tol': 3.681148341760772e-07,\n",
       " 'alpha_1': 0.8613735936178906,\n",
       " 'alpha_2': 0.016555183239723614,\n",
       " 'lambda_1': 0.00024015398053719815,\n",
       " 'lambda_2': 6.6406779929566415}"
      ]
     },
     "execution_count": 41,
     "metadata": {},
     "output_type": "execute_result"
    }
   ],
   "source": [
    "# study = optuna.create_study(direction='minimize')\n",
    "# optuna.logging.set_verbosity(optuna.logging.WARNING)\n",
    "# study.optimize(br, n_trials=10)\n",
    "# study.best_params"
   ]
  },
  {
   "cell_type": "code",
   "execution_count": 44,
   "id": "d566fd1d",
   "metadata": {},
   "outputs": [
    {
     "data": {
      "text/plain": [
       "{'n_estimators': 570,\n",
       " 'max_depth': 40,\n",
       " 'min_samples_leaf': 1,\n",
       " 'max_leaf_nodes': 85}"
      ]
     },
     "execution_count": 44,
     "metadata": {},
     "output_type": "execute_result"
    }
   ],
   "source": [
    "# study = optuna.create_study(direction='minimize')\n",
    "# optuna.logging.set_verbosity(optuna.logging.WARNING)\n",
    "# study.optimize(rf, n_trials=10)\n",
    "# study.best_params"
   ]
  },
  {
   "cell_type": "code",
   "execution_count": 45,
   "id": "5c091d86",
   "metadata": {},
   "outputs": [
    {
     "data": {
      "text/plain": [
       "{'tol': 1.5143349460061823e-08}"
      ]
     },
     "execution_count": 45,
     "metadata": {},
     "output_type": "execute_result"
    }
   ],
   "source": [
    "# study = optuna.create_study(direction='minimize')\n",
    "# optuna.logging.set_verbosity(optuna.logging.WARNING)\n",
    "# study.optimize(omp, n_trials=10)\n",
    "# study.best_params"
   ]
  },
  {
   "cell_type": "code",
   "execution_count": 50,
   "id": "abab559e",
   "metadata": {},
   "outputs": [
    {
     "data": {
      "text/plain": [
       "{'learning_rate': 0.06620333933877298,\n",
       " 'n_estimators': 183,\n",
       " 'min_samples_leaf': 7,\n",
       " 'max_depth': 90,\n",
       " 'max_leaf_nodes': 17}"
      ]
     },
     "execution_count": 50,
     "metadata": {},
     "output_type": "execute_result"
    }
   ],
   "source": [
    "# study = optuna.create_study(direction='minimize')\n",
    "# optuna.logging.set_verbosity(optuna.logging.WARNING)\n",
    "# study.optimize(gbr, n_trials=10)\n",
    "# study.best_params"
   ]
  },
  {
   "cell_type": "markdown",
   "id": "32d22eb7",
   "metadata": {},
   "source": [
    "# Bagging Ensemble"
   ]
  },
  {
   "cell_type": "code",
   "execution_count": 51,
   "id": "055fabb1",
   "metadata": {},
   "outputs": [],
   "source": [
    "ridge_params = {\n",
    "    'alpha': 32,\n",
    "    'tol': 1.5859746737704867e-07\n",
    "}\n",
    "\n",
    "\n",
    "br_params = {\n",
    "    'n_iter': 74,\n",
    "    'tol': 3.681148341760772e-07,\n",
    "    'alpha_1': 0.8613735936178906,\n",
    "    'alpha_2': 0.016555183239723614,\n",
    "    'lambda_1': 0.00024015398053719815,\n",
    "    'lambda_2': 6.640677992956641\n",
    "}\n",
    "\n",
    "rf_params = {\n",
    "    'n_estimators': 570,\n",
    "    'max_depth': 40,\n",
    "    'min_samples_leaf': 1,\n",
    "    'max_leaf_nodes': 85 \n",
    "}\n",
    "\n",
    "omp_params = {\n",
    "    'tol': 1.5143349460061823e-08\n",
    "}\n",
    "\n",
    "gbr_params = {\n",
    "    'learning_rate': 0.06620333933877298,\n",
    "    'n_estimators': 183,\n",
    "    'min_samples_leaf': 7,\n",
    "    'max_depth': 90,\n",
    "    'max_leaf_nodes': 17\n",
    "}\n"
   ]
  },
  {
   "cell_type": "code",
   "execution_count": 55,
   "id": "969940ff",
   "metadata": {},
   "outputs": [],
   "source": [
    "ridge_model = Ridge(**ridge_params)\n",
    "br_model = BayesianRidge(**br_params)\n",
    "rf_model = RandomForestRegressor(**rf_params)\n",
    "omp_model = OrthogonalMatchingPursuit(**omp_params)\n",
    "gbr_model = GradientBoostingRegressor(**gbr_params)"
   ]
  },
  {
   "cell_type": "markdown",
   "id": "2a21d2b6",
   "metadata": {},
   "source": [
    "# Evaluate"
   ]
  },
  {
   "cell_type": "code",
   "execution_count": 61,
   "id": "182ea270",
   "metadata": {},
   "outputs": [],
   "source": [
    "models = {\n",
    "    'ridge_model': Ridge(**ridge_params),\n",
    "    'br_model': BayesianRidge(**br_params),\n",
    "    'rf_model' : RandomForestRegressor(**rf_params),\n",
    "    'omp_model' : OrthogonalMatchingPursuit(**omp_params),\n",
    "    'gbr_model' : GradientBoostingRegressor(**gbr_params)\n",
    "    }"
   ]
  },
  {
   "cell_type": "code",
   "execution_count": 63,
   "id": "393fcde0",
   "metadata": {},
   "outputs": [],
   "source": [
    "results = {}\n",
    "\n",
    "kf = KFold(n_splits=10)\n",
    "\n",
    "for name, model in models.items():\n",
    "    result = np.exp(np.sqrt(-cross_val_score(model, train_final, log_target, scoring='neg_mean_squared_error', cv=kf)))\n",
    "    results[name] = result"
   ]
  },
  {
   "cell_type": "code",
   "execution_count": 64,
   "id": "d5d0969e",
   "metadata": {},
   "outputs": [
    {
     "data": {
      "text/plain": [
       "{'ridge_model': array([1.81026286, 1.77834879, 1.82640198, 1.83217276, 1.87479068,\n",
       "        1.77737204, 1.82850163, 1.86862044, 1.85241883, 1.93911215]),\n",
       " 'br_model': array([1.70870481, 1.71297232, 1.75044888, 1.75353315, 1.78671492,\n",
       "        1.701554  , 1.72794945, 1.76897699, 1.77676712, 1.8274785 ]),\n",
       " 'rf_model': array([1.7934839 , 1.77351405, 1.83945463, 1.8461283 , 1.86565932,\n",
       "        1.77007245, 1.83907151, 1.86028696, 1.81335593, 1.93855091]),\n",
       " 'omp_model': array([1.90898931, 1.82151757, 1.87666391, 1.91153186, 1.90138412,\n",
       "        1.89170202, 1.8925537 , 1.87871204, 1.81730172, 1.94954916]),\n",
       " 'gbr_model': array([1.75031645, 1.74803111, 1.80687794, 1.79996907, 1.83703747,\n",
       "        1.72603759, 1.78773066, 1.83459821, 1.79880914, 1.87832967])}"
      ]
     },
     "execution_count": 64,
     "metadata": {},
     "output_type": "execute_result"
    }
   ],
   "source": [
    "results"
   ]
  },
  {
   "cell_type": "code",
   "execution_count": 65,
   "id": "6c899429",
   "metadata": {},
   "outputs": [
    {
     "name": "stdout",
     "output_type": "stream",
     "text": [
      "----------\n",
      "ridge_model\n",
      "1.838800215707129\n",
      "0.04580216843044909\n",
      "----------\n",
      "br_model\n",
      "1.7515100152622929\n",
      "0.037850991325673176\n",
      "----------\n",
      "rf_model\n",
      "1.833957794815974\n",
      "0.0475812728611844\n",
      "----------\n",
      "omp_model\n",
      "1.8849905405336962\n",
      "0.03812943750691652\n",
      "----------\n",
      "gbr_model\n",
      "1.7967737300865223\n",
      "0.044089884548715534\n"
     ]
    }
   ],
   "source": [
    "for name, result in results.items():\n",
    "    print(\"----------\\n\" + name)\n",
    "    print(np.mean(result))\n",
    "    print(np.std(result))"
   ]
  },
  {
   "cell_type": "code",
   "execution_count": 66,
   "id": "38692891",
   "metadata": {},
   "outputs": [],
   "source": [
    "final_model = VotingRegressor([('ridge', ridge_model), \n",
    "                               ('br', br_model), \n",
    "                               ('rf', rf_model),\n",
    "                               ('omp', omp_model),\n",
    "                               ('gbr', gbr_model)], \n",
    "                              weights=[.1, .4, .1, .1, .3])"
   ]
  },
  {
   "cell_type": "code",
   "execution_count": 67,
   "id": "23be428e",
   "metadata": {},
   "outputs": [
    {
     "name": "stdout",
     "output_type": "stream",
     "text": [
      "RMSE: 1.75\n"
     ]
    }
   ],
   "source": [
    "results_ensemble = []\n",
    "\n",
    "kf = KFold(n_splits=10)\n",
    "\n",
    "r_ensemble = np.exp(np.sqrt(-cross_val_score(final_model, train_final, log_target, scoring='neg_mean_squared_error', cv=kf)))\n",
    "results_ensemble.append(r_ensemble)\n",
    "print(f'RMSE: {np.mean(results_ensemble).round(2)}')"
   ]
  },
  {
   "cell_type": "markdown",
   "id": "bca88821",
   "metadata": {},
   "source": [
    "# Make Submission"
   ]
  },
  {
   "cell_type": "code",
   "execution_count": 71,
   "id": "ebbd1413",
   "metadata": {},
   "outputs": [
    {
     "data": {
      "text/plain": [
       "VotingRegressor(estimators=[('ridge',\n",
       "                             Ridge(alpha=32, copy_X=True, fit_intercept=True,\n",
       "                                   max_iter=None, normalize=False,\n",
       "                                   random_state=None, solver='auto',\n",
       "                                   tol=1.5859746737704867e-07)),\n",
       "                            ('br',\n",
       "                             BayesianRidge(alpha_1=0.8613735936178906,\n",
       "                                           alpha_2=0.016555183239723614,\n",
       "                                           alpha_init=None, compute_score=False,\n",
       "                                           copy_X=True, fit_intercept=True,\n",
       "                                           lambda_1=0.00024015398053719815,\n",
       "                                           l...\n",
       "                                                       max_features=None,\n",
       "                                                       max_leaf_nodes=17,\n",
       "                                                       min_impurity_decrease=0.0,\n",
       "                                                       min_impurity_split=None,\n",
       "                                                       min_samples_leaf=7,\n",
       "                                                       min_samples_split=2,\n",
       "                                                       min_weight_fraction_leaf=0.0,\n",
       "                                                       n_estimators=183,\n",
       "                                                       n_iter_no_change=None,\n",
       "                                                       presort='deprecated',\n",
       "                                                       random_state=None,\n",
       "                                                       subsample=1.0,\n",
       "                                                       tol=0.0001,\n",
       "                                                       validation_fraction=0.1,\n",
       "                                                       verbose=0,\n",
       "                                                       warm_start=False))],\n",
       "                n_jobs=None, verbose=False, weights=[0.1, 0.4, 0.1, 0.1, 0.3])"
      ]
     },
     "execution_count": 71,
     "metadata": {},
     "output_type": "execute_result"
    }
   ],
   "source": [
    "final_model.fit(train_final, log_target)"
   ]
  },
  {
   "cell_type": "code",
   "execution_count": 72,
   "id": "fe79d302",
   "metadata": {},
   "outputs": [],
   "source": [
    "final_predictions = final_model.predict(test_final)"
   ]
  },
  {
   "cell_type": "code",
   "execution_count": 73,
   "id": "e8e7684c",
   "metadata": {},
   "outputs": [
    {
     "data": {
      "text/html": [
       "<div>\n",
       "<style scoped>\n",
       "    .dataframe tbody tr th:only-of-type {\n",
       "        vertical-align: middle;\n",
       "    }\n",
       "\n",
       "    .dataframe tbody tr th {\n",
       "        vertical-align: top;\n",
       "    }\n",
       "\n",
       "    .dataframe thead th {\n",
       "        text-align: right;\n",
       "    }\n",
       "</style>\n",
       "<table border=\"1\" class=\"dataframe\">\n",
       "  <thead>\n",
       "    <tr style=\"text-align: right;\">\n",
       "      <th></th>\n",
       "      <th>Price</th>\n",
       "    </tr>\n",
       "  </thead>\n",
       "  <tbody>\n",
       "    <tr>\n",
       "      <th>0</th>\n",
       "      <td>211.540244</td>\n",
       "    </tr>\n",
       "    <tr>\n",
       "      <th>1</th>\n",
       "      <td>1187.627154</td>\n",
       "    </tr>\n",
       "    <tr>\n",
       "      <th>2</th>\n",
       "      <td>283.694828</td>\n",
       "    </tr>\n",
       "    <tr>\n",
       "      <th>3</th>\n",
       "      <td>628.441683</td>\n",
       "    </tr>\n",
       "    <tr>\n",
       "      <th>4</th>\n",
       "      <td>399.391747</td>\n",
       "    </tr>\n",
       "    <tr>\n",
       "      <th>...</th>\n",
       "      <td>...</td>\n",
       "    </tr>\n",
       "    <tr>\n",
       "      <th>1555</th>\n",
       "      <td>1119.514755</td>\n",
       "    </tr>\n",
       "    <tr>\n",
       "      <th>1556</th>\n",
       "      <td>228.877106</td>\n",
       "    </tr>\n",
       "    <tr>\n",
       "      <th>1557</th>\n",
       "      <td>459.592973</td>\n",
       "    </tr>\n",
       "    <tr>\n",
       "      <th>1558</th>\n",
       "      <td>385.632960</td>\n",
       "    </tr>\n",
       "    <tr>\n",
       "      <th>1559</th>\n",
       "      <td>433.863690</td>\n",
       "    </tr>\n",
       "  </tbody>\n",
       "</table>\n",
       "<p>1560 rows × 1 columns</p>\n",
       "</div>"
      ],
      "text/plain": [
       "            Price\n",
       "0      211.540244\n",
       "1     1187.627154\n",
       "2      283.694828\n",
       "3      628.441683\n",
       "4      399.391747\n",
       "...           ...\n",
       "1555  1119.514755\n",
       "1556   228.877106\n",
       "1557   459.592973\n",
       "1558   385.632960\n",
       "1559   433.863690\n",
       "\n",
       "[1560 rows x 1 columns]"
      ]
     },
     "execution_count": 73,
     "metadata": {},
     "output_type": "execute_result"
    }
   ],
   "source": [
    "submission = pd.DataFrame(np.exp(final_predictions),columns=['Price'])\n",
    "submission"
   ]
  },
  {
   "cell_type": "code",
   "execution_count": 74,
   "id": "44a554ca",
   "metadata": {},
   "outputs": [],
   "source": [
    "submission.to_csv('submission_ensemble_model.csv',index=None)"
   ]
  },
  {
   "cell_type": "code",
   "execution_count": null,
   "id": "262a6abd",
   "metadata": {},
   "outputs": [],
   "source": []
  },
  {
   "cell_type": "code",
   "execution_count": null,
   "id": "2240634f",
   "metadata": {},
   "outputs": [],
   "source": []
  },
  {
   "cell_type": "code",
   "execution_count": null,
   "id": "66ac8e87",
   "metadata": {},
   "outputs": [],
   "source": []
  },
  {
   "cell_type": "code",
   "execution_count": null,
   "id": "12c12447",
   "metadata": {},
   "outputs": [],
   "source": []
  },
  {
   "cell_type": "code",
   "execution_count": 24,
   "id": "b6221650",
   "metadata": {
    "scrolled": true
   },
   "outputs": [
    {
     "ename": "RuntimeError",
     "evalue": "module compiled against API version 0xe but this version of numpy is 0xd",
     "output_type": "error",
     "traceback": [
      "\u001b[1;31m---------------------------------------------------------------------------\u001b[0m",
      "\u001b[1;31mRuntimeError\u001b[0m                              Traceback (most recent call last)",
      "\u001b[1;31mRuntimeError\u001b[0m: module compiled against API version 0xe but this version of numpy is 0xd"
     ]
    },
    {
     "ename": "ImportError",
     "evalue": "initialization failed",
     "output_type": "error",
     "traceback": [
      "\u001b[1;31m---------------------------------------------------------------------------\u001b[0m",
      "\u001b[1;31mImportError\u001b[0m                               Traceback (most recent call last)",
      "\u001b[1;31mImportError\u001b[0m: numpy.core.multiarray failed to import",
      "\nThe above exception was the direct cause of the following exception:\n",
      "\u001b[1;31mSystemError\u001b[0m                               Traceback (most recent call last)",
      "\u001b[1;31mSystemError\u001b[0m: <built-in method __contains__ of dict object at 0x000001E8BBFD1AE8> returned a result with an error set",
      "\nThe above exception was the direct cause of the following exception:\n",
      "\u001b[1;31mImportError\u001b[0m                               Traceback (most recent call last)",
      "\u001b[1;32m~\\AppData\\Local\\Temp\\ipykernel_16564\\2798027210.py\u001b[0m in \u001b[0;36m<module>\u001b[1;34m\u001b[0m\n\u001b[1;32m----> 1\u001b[1;33m \u001b[1;32mfrom\u001b[0m \u001b[0mkeras\u001b[0m\u001b[1;33m.\u001b[0m\u001b[0mmodels\u001b[0m \u001b[1;32mimport\u001b[0m \u001b[0mSequential\u001b[0m\u001b[1;33m,\u001b[0m \u001b[0mModel\u001b[0m\u001b[1;33m\u001b[0m\u001b[1;33m\u001b[0m\u001b[0m\n\u001b[0m\u001b[0;32m      2\u001b[0m \u001b[1;32mfrom\u001b[0m \u001b[0mkeras\u001b[0m\u001b[1;33m.\u001b[0m\u001b[0mlayers\u001b[0m \u001b[1;32mimport\u001b[0m \u001b[0mEmbedding\u001b[0m\u001b[1;33m,\u001b[0m \u001b[0mFlatten\u001b[0m\u001b[1;33m,\u001b[0m \u001b[0mDense\u001b[0m\u001b[1;33m,\u001b[0m \u001b[0mInput\u001b[0m\u001b[1;33m\u001b[0m\u001b[1;33m\u001b[0m\u001b[0m\n\u001b[0;32m      3\u001b[0m \u001b[1;33m\u001b[0m\u001b[0m\n\u001b[0;32m      4\u001b[0m \u001b[1;31m# Generate sample data\u001b[0m\u001b[1;33m\u001b[0m\u001b[1;33m\u001b[0m\u001b[1;33m\u001b[0m\u001b[0m\n\u001b[0;32m      5\u001b[0m \u001b[0mcustomers\u001b[0m \u001b[1;33m=\u001b[0m \u001b[0mnp\u001b[0m\u001b[1;33m.\u001b[0m\u001b[0mrandom\u001b[0m\u001b[1;33m.\u001b[0m\u001b[0mrandint\u001b[0m\u001b[1;33m(\u001b[0m\u001b[1;36m10000\u001b[0m\u001b[1;33m,\u001b[0m \u001b[0msize\u001b[0m\u001b[1;33m=\u001b[0m\u001b[1;36m1000\u001b[0m\u001b[1;33m)\u001b[0m\u001b[1;33m\u001b[0m\u001b[1;33m\u001b[0m\u001b[0m\n",
      "\u001b[1;32m~\\Anaconda3\\lib\\site-packages\\keras\\__init__.py\u001b[0m in \u001b[0;36m<module>\u001b[1;34m\u001b[0m\n\u001b[0;32m     19\u001b[0m \"\"\"\n\u001b[0;32m     20\u001b[0m \u001b[1;32mfrom\u001b[0m \u001b[0mkeras\u001b[0m \u001b[1;32mimport\u001b[0m \u001b[0mdistribute\u001b[0m\u001b[1;33m\u001b[0m\u001b[1;33m\u001b[0m\u001b[0m\n\u001b[1;32m---> 21\u001b[1;33m \u001b[1;32mfrom\u001b[0m \u001b[0mkeras\u001b[0m \u001b[1;32mimport\u001b[0m \u001b[0mmodels\u001b[0m\u001b[1;33m\u001b[0m\u001b[1;33m\u001b[0m\u001b[0m\n\u001b[0m\u001b[0;32m     22\u001b[0m \u001b[1;32mfrom\u001b[0m \u001b[0mkeras\u001b[0m\u001b[1;33m.\u001b[0m\u001b[0mengine\u001b[0m\u001b[1;33m.\u001b[0m\u001b[0minput_layer\u001b[0m \u001b[1;32mimport\u001b[0m \u001b[0mInput\u001b[0m\u001b[1;33m\u001b[0m\u001b[1;33m\u001b[0m\u001b[0m\n\u001b[0;32m     23\u001b[0m \u001b[1;32mfrom\u001b[0m \u001b[0mkeras\u001b[0m\u001b[1;33m.\u001b[0m\u001b[0mengine\u001b[0m\u001b[1;33m.\u001b[0m\u001b[0msequential\u001b[0m \u001b[1;32mimport\u001b[0m \u001b[0mSequential\u001b[0m\u001b[1;33m\u001b[0m\u001b[1;33m\u001b[0m\u001b[0m\n",
      "\u001b[1;32m~\\Anaconda3\\lib\\site-packages\\keras\\models\\__init__.py\u001b[0m in \u001b[0;36m<module>\u001b[1;34m\u001b[0m\n\u001b[0;32m     16\u001b[0m \u001b[1;33m\u001b[0m\u001b[0m\n\u001b[0;32m     17\u001b[0m \u001b[1;33m\u001b[0m\u001b[0m\n\u001b[1;32m---> 18\u001b[1;33m \u001b[1;32mfrom\u001b[0m \u001b[0mkeras\u001b[0m\u001b[1;33m.\u001b[0m\u001b[0mengine\u001b[0m\u001b[1;33m.\u001b[0m\u001b[0mfunctional\u001b[0m \u001b[1;32mimport\u001b[0m \u001b[0mFunctional\u001b[0m\u001b[1;33m\u001b[0m\u001b[1;33m\u001b[0m\u001b[0m\n\u001b[0m\u001b[0;32m     19\u001b[0m \u001b[1;32mfrom\u001b[0m \u001b[0mkeras\u001b[0m\u001b[1;33m.\u001b[0m\u001b[0mengine\u001b[0m\u001b[1;33m.\u001b[0m\u001b[0msequential\u001b[0m \u001b[1;32mimport\u001b[0m \u001b[0mSequential\u001b[0m\u001b[1;33m\u001b[0m\u001b[1;33m\u001b[0m\u001b[0m\n\u001b[0;32m     20\u001b[0m \u001b[1;32mfrom\u001b[0m \u001b[0mkeras\u001b[0m\u001b[1;33m.\u001b[0m\u001b[0mengine\u001b[0m\u001b[1;33m.\u001b[0m\u001b[0mtraining\u001b[0m \u001b[1;32mimport\u001b[0m \u001b[0mModel\u001b[0m\u001b[1;33m\u001b[0m\u001b[1;33m\u001b[0m\u001b[0m\n",
      "\u001b[1;32m~\\Anaconda3\\lib\\site-packages\\keras\\engine\\functional.py\u001b[0m in \u001b[0;36m<module>\u001b[1;34m\u001b[0m\n\u001b[0;32m     22\u001b[0m \u001b[1;32mimport\u001b[0m \u001b[0mwarnings\u001b[0m\u001b[1;33m\u001b[0m\u001b[1;33m\u001b[0m\u001b[0m\n\u001b[0;32m     23\u001b[0m \u001b[1;33m\u001b[0m\u001b[0m\n\u001b[1;32m---> 24\u001b[1;33m \u001b[1;32mimport\u001b[0m \u001b[0mtensorflow\u001b[0m\u001b[1;33m.\u001b[0m\u001b[0mcompat\u001b[0m\u001b[1;33m.\u001b[0m\u001b[0mv2\u001b[0m \u001b[1;32mas\u001b[0m \u001b[0mtf\u001b[0m\u001b[1;33m\u001b[0m\u001b[1;33m\u001b[0m\u001b[0m\n\u001b[0m\u001b[0;32m     25\u001b[0m \u001b[1;33m\u001b[0m\u001b[0m\n\u001b[0;32m     26\u001b[0m \u001b[1;32mfrom\u001b[0m \u001b[0mkeras\u001b[0m \u001b[1;32mimport\u001b[0m \u001b[0mbackend\u001b[0m\u001b[1;33m\u001b[0m\u001b[1;33m\u001b[0m\u001b[0m\n",
      "\u001b[1;32m~\\AppData\\Roaming\\Python\\Python37\\site-packages\\tensorflow\\__init__.py\u001b[0m in \u001b[0;36m<module>\u001b[1;34m\u001b[0m\n\u001b[0;32m     35\u001b[0m \u001b[1;32mimport\u001b[0m \u001b[0mtyping\u001b[0m \u001b[1;32mas\u001b[0m \u001b[0m_typing\u001b[0m\u001b[1;33m\u001b[0m\u001b[1;33m\u001b[0m\u001b[0m\n\u001b[0;32m     36\u001b[0m \u001b[1;33m\u001b[0m\u001b[0m\n\u001b[1;32m---> 37\u001b[1;33m \u001b[1;32mfrom\u001b[0m \u001b[0mtensorflow\u001b[0m\u001b[1;33m.\u001b[0m\u001b[0mpython\u001b[0m\u001b[1;33m.\u001b[0m\u001b[0mtools\u001b[0m \u001b[1;32mimport\u001b[0m \u001b[0mmodule_util\u001b[0m \u001b[1;32mas\u001b[0m \u001b[0m_module_util\u001b[0m\u001b[1;33m\u001b[0m\u001b[1;33m\u001b[0m\u001b[0m\n\u001b[0m\u001b[0;32m     38\u001b[0m \u001b[1;32mfrom\u001b[0m \u001b[0mtensorflow\u001b[0m\u001b[1;33m.\u001b[0m\u001b[0mpython\u001b[0m\u001b[1;33m.\u001b[0m\u001b[0mutil\u001b[0m\u001b[1;33m.\u001b[0m\u001b[0mlazy_loader\u001b[0m \u001b[1;32mimport\u001b[0m \u001b[0mLazyLoader\u001b[0m \u001b[1;32mas\u001b[0m \u001b[0m_LazyLoader\u001b[0m\u001b[1;33m\u001b[0m\u001b[1;33m\u001b[0m\u001b[0m\n\u001b[0;32m     39\u001b[0m \u001b[1;33m\u001b[0m\u001b[0m\n",
      "\u001b[1;32m~\\AppData\\Roaming\\Python\\Python37\\site-packages\\tensorflow\\python\\__init__.py\u001b[0m in \u001b[0;36m<module>\u001b[1;34m\u001b[0m\n\u001b[0;32m     35\u001b[0m \u001b[1;33m\u001b[0m\u001b[0m\n\u001b[0;32m     36\u001b[0m \u001b[1;32mfrom\u001b[0m \u001b[0mtensorflow\u001b[0m\u001b[1;33m.\u001b[0m\u001b[0mpython\u001b[0m \u001b[1;32mimport\u001b[0m \u001b[0mpywrap_tensorflow\u001b[0m \u001b[1;32mas\u001b[0m \u001b[0m_pywrap_tensorflow\u001b[0m\u001b[1;33m\u001b[0m\u001b[1;33m\u001b[0m\u001b[0m\n\u001b[1;32m---> 37\u001b[1;33m \u001b[1;32mfrom\u001b[0m \u001b[0mtensorflow\u001b[0m\u001b[1;33m.\u001b[0m\u001b[0mpython\u001b[0m\u001b[1;33m.\u001b[0m\u001b[0meager\u001b[0m \u001b[1;32mimport\u001b[0m \u001b[0mcontext\u001b[0m\u001b[1;33m\u001b[0m\u001b[1;33m\u001b[0m\u001b[0m\n\u001b[0m\u001b[0;32m     38\u001b[0m \u001b[1;33m\u001b[0m\u001b[0m\n\u001b[0;32m     39\u001b[0m \u001b[1;31m# pylint: enable=wildcard-import\u001b[0m\u001b[1;33m\u001b[0m\u001b[1;33m\u001b[0m\u001b[1;33m\u001b[0m\u001b[0m\n",
      "\u001b[1;32m~\\AppData\\Roaming\\Python\\Python37\\site-packages\\tensorflow\\python\\eager\\context.py\u001b[0m in \u001b[0;36m<module>\u001b[1;34m\u001b[0m\n\u001b[0;32m     32\u001b[0m \u001b[1;32mfrom\u001b[0m \u001b[0mtensorflow\u001b[0m\u001b[1;33m.\u001b[0m\u001b[0mpython\u001b[0m \u001b[1;32mimport\u001b[0m \u001b[0mpywrap_tfe\u001b[0m\u001b[1;33m\u001b[0m\u001b[1;33m\u001b[0m\u001b[0m\n\u001b[0;32m     33\u001b[0m \u001b[1;32mfrom\u001b[0m \u001b[0mtensorflow\u001b[0m\u001b[1;33m.\u001b[0m\u001b[0mpython\u001b[0m \u001b[1;32mimport\u001b[0m \u001b[0mtf2\u001b[0m\u001b[1;33m\u001b[0m\u001b[1;33m\u001b[0m\u001b[0m\n\u001b[1;32m---> 34\u001b[1;33m \u001b[1;32mfrom\u001b[0m \u001b[0mtensorflow\u001b[0m\u001b[1;33m.\u001b[0m\u001b[0mpython\u001b[0m\u001b[1;33m.\u001b[0m\u001b[0mclient\u001b[0m \u001b[1;32mimport\u001b[0m \u001b[0mpywrap_tf_session\u001b[0m\u001b[1;33m\u001b[0m\u001b[1;33m\u001b[0m\u001b[0m\n\u001b[0m\u001b[0;32m     35\u001b[0m \u001b[1;32mfrom\u001b[0m \u001b[0mtensorflow\u001b[0m\u001b[1;33m.\u001b[0m\u001b[0mpython\u001b[0m\u001b[1;33m.\u001b[0m\u001b[0meager\u001b[0m \u001b[1;32mimport\u001b[0m \u001b[0mexecutor\u001b[0m\u001b[1;33m\u001b[0m\u001b[1;33m\u001b[0m\u001b[0m\n\u001b[0;32m     36\u001b[0m \u001b[1;32mfrom\u001b[0m \u001b[0mtensorflow\u001b[0m\u001b[1;33m.\u001b[0m\u001b[0mpython\u001b[0m\u001b[1;33m.\u001b[0m\u001b[0meager\u001b[0m \u001b[1;32mimport\u001b[0m \u001b[0mmonitoring\u001b[0m\u001b[1;33m\u001b[0m\u001b[1;33m\u001b[0m\u001b[0m\n",
      "\u001b[1;32m~\\AppData\\Roaming\\Python\\Python37\\site-packages\\tensorflow\\python\\client\\pywrap_tf_session.py\u001b[0m in \u001b[0;36m<module>\u001b[1;34m\u001b[0m\n\u001b[0;32m     17\u001b[0m \u001b[1;31m# pylint: disable=invalid-import-order,g-bad-import-order, wildcard-import, unused-import\u001b[0m\u001b[1;33m\u001b[0m\u001b[1;33m\u001b[0m\u001b[1;33m\u001b[0m\u001b[0m\n\u001b[0;32m     18\u001b[0m \u001b[1;32mfrom\u001b[0m \u001b[0mtensorflow\u001b[0m\u001b[1;33m.\u001b[0m\u001b[0mpython\u001b[0m \u001b[1;32mimport\u001b[0m \u001b[0mpywrap_tensorflow\u001b[0m\u001b[1;33m\u001b[0m\u001b[1;33m\u001b[0m\u001b[0m\n\u001b[1;32m---> 19\u001b[1;33m \u001b[1;32mfrom\u001b[0m \u001b[0mtensorflow\u001b[0m\u001b[1;33m.\u001b[0m\u001b[0mpython\u001b[0m\u001b[1;33m.\u001b[0m\u001b[0mclient\u001b[0m\u001b[1;33m.\u001b[0m\u001b[0m_pywrap_tf_session\u001b[0m \u001b[1;32mimport\u001b[0m \u001b[1;33m*\u001b[0m\u001b[1;33m\u001b[0m\u001b[1;33m\u001b[0m\u001b[0m\n\u001b[0m\u001b[0;32m     20\u001b[0m \u001b[1;32mfrom\u001b[0m \u001b[0mtensorflow\u001b[0m\u001b[1;33m.\u001b[0m\u001b[0mpython\u001b[0m\u001b[1;33m.\u001b[0m\u001b[0mclient\u001b[0m\u001b[1;33m.\u001b[0m\u001b[0m_pywrap_tf_session\u001b[0m \u001b[1;32mimport\u001b[0m \u001b[0m_TF_SetTarget\u001b[0m\u001b[1;33m\u001b[0m\u001b[1;33m\u001b[0m\u001b[0m\n\u001b[0;32m     21\u001b[0m \u001b[1;32mfrom\u001b[0m \u001b[0mtensorflow\u001b[0m\u001b[1;33m.\u001b[0m\u001b[0mpython\u001b[0m\u001b[1;33m.\u001b[0m\u001b[0mclient\u001b[0m\u001b[1;33m.\u001b[0m\u001b[0m_pywrap_tf_session\u001b[0m \u001b[1;32mimport\u001b[0m \u001b[0m_TF_SetConfig\u001b[0m\u001b[1;33m\u001b[0m\u001b[1;33m\u001b[0m\u001b[0m\n",
      "\u001b[1;31mImportError\u001b[0m: initialization failed"
     ]
    }
   ],
   "source": [
    "# from keras.models import Sequential, Model\n",
    "# from keras.layers import Embedding, Flatten, Dense, Input\n",
    "\n",
    "# # Generate sample data\n",
    "# customers = np.random.randint(10000, size=1000)\n",
    "# products = np.random.randint(5000, size=1000)\n",
    "# purchases = np.random.randint(2, size=1000)\n",
    "\n",
    "# # Define embedding size\n",
    "# embedding_size = 32\n",
    "\n",
    "# # Define model architecture\n",
    "# customer_input = Input(shape=(1,), dtype='int32', name='customer_input')\n",
    "# customer_embedding = Embedding(input_dim=10000, output_dim=embedding_size, input_length=1)(customer_input)\n",
    "# customer_vec = Flatten()(customer_embedding)\n",
    "\n",
    "# product_input = Input(shape=(1,), dtype='int32', name='product_input')\n",
    "# product_embedding = Embedding(input_dim=5000, output_dim=embedding_size, input_length=1)(product_input)\n",
    "# product_vec = Flatten()(product_embedding)\n",
    "\n",
    "# concatenated = keras.layers.concatenate([customer_vec, product_vec])\n",
    "# output = Dense(1, activation='sigmoid')(concatenated)\n",
    "\n",
    "# # Compile and fit model\n",
    "# model = Model(inputs=[customer_input, product_input], outputs=output)\n",
    "# model.compile(optimizer='adam', loss='binary_crossentropy')\n",
    "# model.fit([customers, products], purchases, epochs=10, batch_size=32)\n",
    "\n",
    "# # Use embeddings for prediction\n",
    "# customer_embedding_model = Model(inputs=customer_input, outputs=customer_embedding)\n",
    "# product_embedding_model = Model(inputs=product_input, outputs=product_embedding)\n",
    "\n",
    "# customer_embeddings = customer_embedding_model.predict(customers)\n",
    "# product_embeddings = product_embedding_model.predict(products)\n",
    "\n",
    "# # Do something with the embeddings (e.g., clustering)\n"
   ]
  },
  {
   "cell_type": "code",
   "execution_count": null,
   "id": "17851f8e",
   "metadata": {},
   "outputs": [],
   "source": []
  }
 ],
 "metadata": {
  "kernelspec": {
   "display_name": "Python 3 (ipykernel)",
   "language": "python",
   "name": "python3"
  },
  "language_info": {
   "codemirror_mode": {
    "name": "ipython",
    "version": 3
   },
   "file_extension": ".py",
   "mimetype": "text/x-python",
   "name": "python",
   "nbconvert_exporter": "python",
   "pygments_lexer": "ipython3",
   "version": "3.7.15"
  }
 },
 "nbformat": 4,
 "nbformat_minor": 5
}
